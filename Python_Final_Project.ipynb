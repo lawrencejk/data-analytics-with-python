{
 "cells": [
  {
   "cell_type": "markdown",
   "id": "34b8e976",
   "metadata": {},
   "source": [
    "# 1.Load the data file using pandas. "
   ]
  },
  {
   "cell_type": "code",
   "execution_count": 1,
   "id": "5e8dae34",
   "metadata": {},
   "outputs": [],
   "source": [
    "import pandas as pd\n",
    "import numpy as np\n",
    "import matplotlib.pyplot as plt\n",
    "import seaborn as sns"
   ]
  },
  {
   "cell_type": "code",
   "execution_count": 2,
   "id": "52a22570",
   "metadata": {},
   "outputs": [],
   "source": [
    "df = pd.read_csv(\"googleplaystore.csv\")"
   ]
  },
  {
   "cell_type": "code",
   "execution_count": 3,
   "id": "c637a0ab",
   "metadata": {},
   "outputs": [
    {
     "data": {
      "text/html": [
       "<div>\n",
       "<style scoped>\n",
       "    .dataframe tbody tr th:only-of-type {\n",
       "        vertical-align: middle;\n",
       "    }\n",
       "\n",
       "    .dataframe tbody tr th {\n",
       "        vertical-align: top;\n",
       "    }\n",
       "\n",
       "    .dataframe thead th {\n",
       "        text-align: right;\n",
       "    }\n",
       "</style>\n",
       "<table border=\"1\" class=\"dataframe\">\n",
       "  <thead>\n",
       "    <tr style=\"text-align: right;\">\n",
       "      <th></th>\n",
       "      <th>App</th>\n",
       "      <th>Category</th>\n",
       "      <th>Rating</th>\n",
       "      <th>Reviews</th>\n",
       "      <th>Size</th>\n",
       "      <th>Installs</th>\n",
       "      <th>Type</th>\n",
       "      <th>Price</th>\n",
       "      <th>Content Rating</th>\n",
       "      <th>Genres</th>\n",
       "      <th>Last Updated</th>\n",
       "      <th>Current Ver</th>\n",
       "      <th>Android Ver</th>\n",
       "    </tr>\n",
       "  </thead>\n",
       "  <tbody>\n",
       "    <tr>\n",
       "      <th>0</th>\n",
       "      <td>Photo Editor &amp; Candy Camera &amp; Grid &amp; ScrapBook</td>\n",
       "      <td>ART_AND_DESIGN</td>\n",
       "      <td>4.1</td>\n",
       "      <td>159</td>\n",
       "      <td>19M</td>\n",
       "      <td>10,000+</td>\n",
       "      <td>Free</td>\n",
       "      <td>0</td>\n",
       "      <td>Everyone</td>\n",
       "      <td>Art &amp; Design</td>\n",
       "      <td>January 7, 2018</td>\n",
       "      <td>1.0.0</td>\n",
       "      <td>4.0.3 and up</td>\n",
       "    </tr>\n",
       "    <tr>\n",
       "      <th>1</th>\n",
       "      <td>Coloring book moana</td>\n",
       "      <td>ART_AND_DESIGN</td>\n",
       "      <td>3.9</td>\n",
       "      <td>967</td>\n",
       "      <td>14M</td>\n",
       "      <td>500,000+</td>\n",
       "      <td>Free</td>\n",
       "      <td>0</td>\n",
       "      <td>Everyone</td>\n",
       "      <td>Art &amp; Design;Pretend Play</td>\n",
       "      <td>January 15, 2018</td>\n",
       "      <td>2.0.0</td>\n",
       "      <td>4.0.3 and up</td>\n",
       "    </tr>\n",
       "    <tr>\n",
       "      <th>2</th>\n",
       "      <td>U Launcher Lite – FREE Live Cool Themes, Hide ...</td>\n",
       "      <td>ART_AND_DESIGN</td>\n",
       "      <td>4.7</td>\n",
       "      <td>87510</td>\n",
       "      <td>8.7M</td>\n",
       "      <td>5,000,000+</td>\n",
       "      <td>Free</td>\n",
       "      <td>0</td>\n",
       "      <td>Everyone</td>\n",
       "      <td>Art &amp; Design</td>\n",
       "      <td>August 1, 2018</td>\n",
       "      <td>1.2.4</td>\n",
       "      <td>4.0.3 and up</td>\n",
       "    </tr>\n",
       "  </tbody>\n",
       "</table>\n",
       "</div>"
      ],
      "text/plain": [
       "                                                 App        Category  Rating  \\\n",
       "0     Photo Editor & Candy Camera & Grid & ScrapBook  ART_AND_DESIGN     4.1   \n",
       "1                                Coloring book moana  ART_AND_DESIGN     3.9   \n",
       "2  U Launcher Lite – FREE Live Cool Themes, Hide ...  ART_AND_DESIGN     4.7   \n",
       "\n",
       "  Reviews  Size    Installs  Type Price Content Rating  \\\n",
       "0     159   19M     10,000+  Free     0       Everyone   \n",
       "1     967   14M    500,000+  Free     0       Everyone   \n",
       "2   87510  8.7M  5,000,000+  Free     0       Everyone   \n",
       "\n",
       "                      Genres      Last Updated Current Ver   Android Ver  \n",
       "0               Art & Design   January 7, 2018       1.0.0  4.0.3 and up  \n",
       "1  Art & Design;Pretend Play  January 15, 2018       2.0.0  4.0.3 and up  \n",
       "2               Art & Design    August 1, 2018       1.2.4  4.0.3 and up  "
      ]
     },
     "execution_count": 3,
     "metadata": {},
     "output_type": "execute_result"
    }
   ],
   "source": [
    "df.head(3)"
   ]
  },
  {
   "cell_type": "code",
   "execution_count": 4,
   "id": "493faad9",
   "metadata": {},
   "outputs": [],
   "source": [
    "y =df.iloc[:,2]"
   ]
  },
  {
   "cell_type": "code",
   "execution_count": 5,
   "id": "b7a4f7b9",
   "metadata": {},
   "outputs": [
    {
     "data": {
      "text/plain": [
       "0        4.1\n",
       "1        3.9\n",
       "2        4.7\n",
       "3        4.5\n",
       "4        4.3\n",
       "        ... \n",
       "10836    4.5\n",
       "10837    5.0\n",
       "10838    NaN\n",
       "10839    4.5\n",
       "10840    4.5\n",
       "Name: Rating, Length: 10841, dtype: float64"
      ]
     },
     "execution_count": 5,
     "metadata": {},
     "output_type": "execute_result"
    }
   ],
   "source": [
    "y"
   ]
  },
  {
   "cell_type": "code",
   "execution_count": 6,
   "id": "77179ce5",
   "metadata": {},
   "outputs": [],
   "source": [
    "x =df.iloc[:,[0,3,4,5,6,7,8,9,10,11,12]]"
   ]
  },
  {
   "cell_type": "code",
   "execution_count": 7,
   "id": "636e755e",
   "metadata": {},
   "outputs": [
    {
     "data": {
      "text/html": [
       "<div>\n",
       "<style scoped>\n",
       "    .dataframe tbody tr th:only-of-type {\n",
       "        vertical-align: middle;\n",
       "    }\n",
       "\n",
       "    .dataframe tbody tr th {\n",
       "        vertical-align: top;\n",
       "    }\n",
       "\n",
       "    .dataframe thead th {\n",
       "        text-align: right;\n",
       "    }\n",
       "</style>\n",
       "<table border=\"1\" class=\"dataframe\">\n",
       "  <thead>\n",
       "    <tr style=\"text-align: right;\">\n",
       "      <th></th>\n",
       "      <th>App</th>\n",
       "      <th>Reviews</th>\n",
       "      <th>Size</th>\n",
       "      <th>Installs</th>\n",
       "      <th>Type</th>\n",
       "      <th>Price</th>\n",
       "      <th>Content Rating</th>\n",
       "      <th>Genres</th>\n",
       "      <th>Last Updated</th>\n",
       "      <th>Current Ver</th>\n",
       "      <th>Android Ver</th>\n",
       "    </tr>\n",
       "  </thead>\n",
       "  <tbody>\n",
       "    <tr>\n",
       "      <th>0</th>\n",
       "      <td>Photo Editor &amp; Candy Camera &amp; Grid &amp; ScrapBook</td>\n",
       "      <td>159</td>\n",
       "      <td>19M</td>\n",
       "      <td>10,000+</td>\n",
       "      <td>Free</td>\n",
       "      <td>0</td>\n",
       "      <td>Everyone</td>\n",
       "      <td>Art &amp; Design</td>\n",
       "      <td>January 7, 2018</td>\n",
       "      <td>1.0.0</td>\n",
       "      <td>4.0.3 and up</td>\n",
       "    </tr>\n",
       "    <tr>\n",
       "      <th>1</th>\n",
       "      <td>Coloring book moana</td>\n",
       "      <td>967</td>\n",
       "      <td>14M</td>\n",
       "      <td>500,000+</td>\n",
       "      <td>Free</td>\n",
       "      <td>0</td>\n",
       "      <td>Everyone</td>\n",
       "      <td>Art &amp; Design;Pretend Play</td>\n",
       "      <td>January 15, 2018</td>\n",
       "      <td>2.0.0</td>\n",
       "      <td>4.0.3 and up</td>\n",
       "    </tr>\n",
       "    <tr>\n",
       "      <th>2</th>\n",
       "      <td>U Launcher Lite – FREE Live Cool Themes, Hide ...</td>\n",
       "      <td>87510</td>\n",
       "      <td>8.7M</td>\n",
       "      <td>5,000,000+</td>\n",
       "      <td>Free</td>\n",
       "      <td>0</td>\n",
       "      <td>Everyone</td>\n",
       "      <td>Art &amp; Design</td>\n",
       "      <td>August 1, 2018</td>\n",
       "      <td>1.2.4</td>\n",
       "      <td>4.0.3 and up</td>\n",
       "    </tr>\n",
       "    <tr>\n",
       "      <th>3</th>\n",
       "      <td>Sketch - Draw &amp; Paint</td>\n",
       "      <td>215644</td>\n",
       "      <td>25M</td>\n",
       "      <td>50,000,000+</td>\n",
       "      <td>Free</td>\n",
       "      <td>0</td>\n",
       "      <td>Teen</td>\n",
       "      <td>Art &amp; Design</td>\n",
       "      <td>June 8, 2018</td>\n",
       "      <td>Varies with device</td>\n",
       "      <td>4.2 and up</td>\n",
       "    </tr>\n",
       "    <tr>\n",
       "      <th>4</th>\n",
       "      <td>Pixel Draw - Number Art Coloring Book</td>\n",
       "      <td>967</td>\n",
       "      <td>2.8M</td>\n",
       "      <td>100,000+</td>\n",
       "      <td>Free</td>\n",
       "      <td>0</td>\n",
       "      <td>Everyone</td>\n",
       "      <td>Art &amp; Design;Creativity</td>\n",
       "      <td>June 20, 2018</td>\n",
       "      <td>1.1</td>\n",
       "      <td>4.4 and up</td>\n",
       "    </tr>\n",
       "    <tr>\n",
       "      <th>...</th>\n",
       "      <td>...</td>\n",
       "      <td>...</td>\n",
       "      <td>...</td>\n",
       "      <td>...</td>\n",
       "      <td>...</td>\n",
       "      <td>...</td>\n",
       "      <td>...</td>\n",
       "      <td>...</td>\n",
       "      <td>...</td>\n",
       "      <td>...</td>\n",
       "      <td>...</td>\n",
       "    </tr>\n",
       "    <tr>\n",
       "      <th>10836</th>\n",
       "      <td>Sya9a Maroc - FR</td>\n",
       "      <td>38</td>\n",
       "      <td>53M</td>\n",
       "      <td>5,000+</td>\n",
       "      <td>Free</td>\n",
       "      <td>0</td>\n",
       "      <td>Everyone</td>\n",
       "      <td>Education</td>\n",
       "      <td>July 25, 2017</td>\n",
       "      <td>1.48</td>\n",
       "      <td>4.1 and up</td>\n",
       "    </tr>\n",
       "    <tr>\n",
       "      <th>10837</th>\n",
       "      <td>Fr. Mike Schmitz Audio Teachings</td>\n",
       "      <td>4</td>\n",
       "      <td>3.6M</td>\n",
       "      <td>100+</td>\n",
       "      <td>Free</td>\n",
       "      <td>0</td>\n",
       "      <td>Everyone</td>\n",
       "      <td>Education</td>\n",
       "      <td>July 6, 2018</td>\n",
       "      <td>1.0</td>\n",
       "      <td>4.1 and up</td>\n",
       "    </tr>\n",
       "    <tr>\n",
       "      <th>10838</th>\n",
       "      <td>Parkinson Exercices FR</td>\n",
       "      <td>3</td>\n",
       "      <td>9.5M</td>\n",
       "      <td>1,000+</td>\n",
       "      <td>Free</td>\n",
       "      <td>0</td>\n",
       "      <td>Everyone</td>\n",
       "      <td>Medical</td>\n",
       "      <td>January 20, 2017</td>\n",
       "      <td>1.0</td>\n",
       "      <td>2.2 and up</td>\n",
       "    </tr>\n",
       "    <tr>\n",
       "      <th>10839</th>\n",
       "      <td>The SCP Foundation DB fr nn5n</td>\n",
       "      <td>114</td>\n",
       "      <td>Varies with device</td>\n",
       "      <td>1,000+</td>\n",
       "      <td>Free</td>\n",
       "      <td>0</td>\n",
       "      <td>Mature 17+</td>\n",
       "      <td>Books &amp; Reference</td>\n",
       "      <td>January 19, 2015</td>\n",
       "      <td>Varies with device</td>\n",
       "      <td>Varies with device</td>\n",
       "    </tr>\n",
       "    <tr>\n",
       "      <th>10840</th>\n",
       "      <td>iHoroscope - 2018 Daily Horoscope &amp; Astrology</td>\n",
       "      <td>398307</td>\n",
       "      <td>19M</td>\n",
       "      <td>10,000,000+</td>\n",
       "      <td>Free</td>\n",
       "      <td>0</td>\n",
       "      <td>Everyone</td>\n",
       "      <td>Lifestyle</td>\n",
       "      <td>July 25, 2018</td>\n",
       "      <td>Varies with device</td>\n",
       "      <td>Varies with device</td>\n",
       "    </tr>\n",
       "  </tbody>\n",
       "</table>\n",
       "<p>10841 rows × 11 columns</p>\n",
       "</div>"
      ],
      "text/plain": [
       "                                                     App Reviews  \\\n",
       "0         Photo Editor & Candy Camera & Grid & ScrapBook     159   \n",
       "1                                    Coloring book moana     967   \n",
       "2      U Launcher Lite – FREE Live Cool Themes, Hide ...   87510   \n",
       "3                                  Sketch - Draw & Paint  215644   \n",
       "4                  Pixel Draw - Number Art Coloring Book     967   \n",
       "...                                                  ...     ...   \n",
       "10836                                   Sya9a Maroc - FR      38   \n",
       "10837                   Fr. Mike Schmitz Audio Teachings       4   \n",
       "10838                             Parkinson Exercices FR       3   \n",
       "10839                      The SCP Foundation DB fr nn5n     114   \n",
       "10840      iHoroscope - 2018 Daily Horoscope & Astrology  398307   \n",
       "\n",
       "                     Size     Installs  Type Price Content Rating  \\\n",
       "0                     19M      10,000+  Free     0       Everyone   \n",
       "1                     14M     500,000+  Free     0       Everyone   \n",
       "2                    8.7M   5,000,000+  Free     0       Everyone   \n",
       "3                     25M  50,000,000+  Free     0           Teen   \n",
       "4                    2.8M     100,000+  Free     0       Everyone   \n",
       "...                   ...          ...   ...   ...            ...   \n",
       "10836                 53M       5,000+  Free     0       Everyone   \n",
       "10837                3.6M         100+  Free     0       Everyone   \n",
       "10838                9.5M       1,000+  Free     0       Everyone   \n",
       "10839  Varies with device       1,000+  Free     0     Mature 17+   \n",
       "10840                 19M  10,000,000+  Free     0       Everyone   \n",
       "\n",
       "                          Genres      Last Updated         Current Ver  \\\n",
       "0                   Art & Design   January 7, 2018               1.0.0   \n",
       "1      Art & Design;Pretend Play  January 15, 2018               2.0.0   \n",
       "2                   Art & Design    August 1, 2018               1.2.4   \n",
       "3                   Art & Design      June 8, 2018  Varies with device   \n",
       "4        Art & Design;Creativity     June 20, 2018                 1.1   \n",
       "...                          ...               ...                 ...   \n",
       "10836                  Education     July 25, 2017                1.48   \n",
       "10837                  Education      July 6, 2018                 1.0   \n",
       "10838                    Medical  January 20, 2017                 1.0   \n",
       "10839          Books & Reference  January 19, 2015  Varies with device   \n",
       "10840                  Lifestyle     July 25, 2018  Varies with device   \n",
       "\n",
       "              Android Ver  \n",
       "0            4.0.3 and up  \n",
       "1            4.0.3 and up  \n",
       "2            4.0.3 and up  \n",
       "3              4.2 and up  \n",
       "4              4.4 and up  \n",
       "...                   ...  \n",
       "10836          4.1 and up  \n",
       "10837          4.1 and up  \n",
       "10838          2.2 and up  \n",
       "10839  Varies with device  \n",
       "10840  Varies with device  \n",
       "\n",
       "[10841 rows x 11 columns]"
      ]
     },
     "execution_count": 7,
     "metadata": {},
     "output_type": "execute_result"
    }
   ],
   "source": [
    "x"
   ]
  },
  {
   "cell_type": "markdown",
   "id": "d9016fee",
   "metadata": {},
   "source": [
    "# 2.Check for null values in the data. Get the number of null values for each column."
   ]
  },
  {
   "cell_type": "code",
   "execution_count": 8,
   "id": "cd38c1e7",
   "metadata": {},
   "outputs": [
    {
     "data": {
      "text/plain": [
       "App                  0\n",
       "Category             0\n",
       "Rating            1474\n",
       "Reviews              0\n",
       "Size                 0\n",
       "Installs             0\n",
       "Type                 1\n",
       "Price                0\n",
       "Content Rating       1\n",
       "Genres               0\n",
       "Last Updated         0\n",
       "Current Ver          8\n",
       "Android Ver          3\n",
       "dtype: int64"
      ]
     },
     "execution_count": 8,
     "metadata": {},
     "output_type": "execute_result"
    }
   ],
   "source": [
    "df.isna().sum()"
   ]
  },
  {
   "cell_type": "markdown",
   "id": "de087205",
   "metadata": {},
   "source": [
    "# 3.Drop records with nulls in any of the columns. "
   ]
  },
  {
   "cell_type": "code",
   "execution_count": 9,
   "id": "cec26592",
   "metadata": {},
   "outputs": [],
   "source": [
    "df.dropna(inplace=True)"
   ]
  },
  {
   "cell_type": "code",
   "execution_count": null,
   "id": "87fd3963",
   "metadata": {},
   "outputs": [],
   "source": [
    "Variables seem to have incorrect type and inconsistent formatting. You need to fix them: \n",
    "\n",
    "Size column has sizes in Kb as well as Mb. To analyze, you’ll need to convert these to numeric.\n",
    "\n",
    "Extract the numeric value from the column\n",
    "\n",
    "Multiply the value by 1,000, if size is mentioned in Mb\n",
    "\n",
    "Reviews is a numeric field that is loaded as a string field. Convert it to numeric (int/float).\n",
    "\n",
    "Installs field is currently stored as string and has values like 1,000,000+. \n",
    "\n",
    "Treat 1,000,000+ as 1,000,000\n",
    "\n",
    "remove ‘+’, ‘,’ from the field, convert it to integer\n"
   ]
  },
  {
   "cell_type": "markdown",
   "id": "7ed4fa59",
   "metadata": {},
   "source": [
    "# 4.Variables seem to have incorrect type and inconsistent formatting. You need to fix them: \n",
    "\n",
    "Size column has sizes in Kb as well as Mb. To analyze, you’ll need to convert these to numeric.\n",
    "\n",
    "Extract the numeric value from the column\n",
    "\n",
    "Multiply the value by 1,000, if size is mentioned in Mb"
   ]
  },
  {
   "cell_type": "code",
   "execution_count": 10,
   "id": "770e14e7",
   "metadata": {},
   "outputs": [
    {
     "data": {
      "text/plain": [
       "(9360, 13)"
      ]
     },
     "execution_count": 10,
     "metadata": {},
     "output_type": "execute_result"
    }
   ],
   "source": [
    "df.shape\n"
   ]
  },
  {
   "cell_type": "code",
   "execution_count": 11,
   "id": "c4653eb3",
   "metadata": {},
   "outputs": [
    {
     "data": {
      "text/plain": [
       "0                       19M\n",
       "1                       14M\n",
       "2                      8.7M\n",
       "3                       25M\n",
       "4                      2.8M\n",
       "                ...        \n",
       "10834                  2.6M\n",
       "10836                   53M\n",
       "10837                  3.6M\n",
       "10839    Varies with device\n",
       "10840                   19M\n",
       "Name: Size, Length: 9360, dtype: object"
      ]
     },
     "execution_count": 11,
     "metadata": {},
     "output_type": "execute_result"
    }
   ],
   "source": [
    "df[\"Size\"]\n",
    "\n"
   ]
  },
  {
   "cell_type": "code",
   "execution_count": 12,
   "id": "f6816e8d",
   "metadata": {},
   "outputs": [],
   "source": [
    "df = df[-df[\"Size\"].str.contains(\"Var\")]"
   ]
  },
  {
   "cell_type": "code",
   "execution_count": 13,
   "id": "d54e96a3",
   "metadata": {},
   "outputs": [
    {
     "data": {
      "text/plain": [
       "0         19M\n",
       "1         14M\n",
       "2        8.7M\n",
       "3         25M\n",
       "4        2.8M\n",
       "         ... \n",
       "10833    619k\n",
       "10834    2.6M\n",
       "10836     53M\n",
       "10837    3.6M\n",
       "10840     19M\n",
       "Name: Size, Length: 7723, dtype: object"
      ]
     },
     "execution_count": 13,
     "metadata": {},
     "output_type": "execute_result"
    }
   ],
   "source": [
    "df[\"Size\"]"
   ]
  },
  {
   "cell_type": "markdown",
   "id": "5675345e",
   "metadata": {},
   "source": [
    "# Reviews is a numeric field that is loaded as a string field. Convert it to numeric (int/float)."
   ]
  },
  {
   "cell_type": "code",
   "execution_count": 15,
   "id": "ff20ada5",
   "metadata": {},
   "outputs": [],
   "source": [
    "df.loc[:,\"sizenum\"] = df[\"Size\"].str.rstrip('Mk+')\n",
    "#df.sizenum = pd.to_numeric(df[\"sizenum\"])"
   ]
  },
  {
   "cell_type": "code",
   "execution_count": 16,
   "id": "de2d0fda",
   "metadata": {},
   "outputs": [],
   "source": [
    "df.sizenum = pd.to_numeric(df[\"sizenum\"])"
   ]
  },
  {
   "cell_type": "code",
   "execution_count": 17,
   "id": "7727ecc8",
   "metadata": {},
   "outputs": [
    {
     "data": {
      "text/plain": [
       "dtype('float64')"
      ]
     },
     "execution_count": 17,
     "metadata": {},
     "output_type": "execute_result"
    }
   ],
   "source": [
    "df.sizenum.dtype"
   ]
  },
  {
   "cell_type": "code",
   "execution_count": 18,
   "id": "af3ef6ab",
   "metadata": {},
   "outputs": [
    {
     "data": {
      "text/plain": [
       "Index(['App', 'Category', 'Rating', 'Reviews', 'Size', 'Installs', 'Type',\n",
       "       'Price', 'Content Rating', 'Genres', 'Last Updated', 'Current Ver',\n",
       "       'Android Ver', 'sizenum'],\n",
       "      dtype='object')"
      ]
     },
     "execution_count": 18,
     "metadata": {},
     "output_type": "execute_result"
    }
   ],
   "source": [
    "df.columns"
   ]
  },
  {
   "cell_type": "code",
   "execution_count": 19,
   "id": "7defa486",
   "metadata": {},
   "outputs": [
    {
     "data": {
      "text/html": [
       "<div>\n",
       "<style scoped>\n",
       "    .dataframe tbody tr th:only-of-type {\n",
       "        vertical-align: middle;\n",
       "    }\n",
       "\n",
       "    .dataframe tbody tr th {\n",
       "        vertical-align: top;\n",
       "    }\n",
       "\n",
       "    .dataframe thead th {\n",
       "        text-align: right;\n",
       "    }\n",
       "</style>\n",
       "<table border=\"1\" class=\"dataframe\">\n",
       "  <thead>\n",
       "    <tr style=\"text-align: right;\">\n",
       "      <th></th>\n",
       "      <th>App</th>\n",
       "      <th>Category</th>\n",
       "      <th>Rating</th>\n",
       "      <th>Reviews</th>\n",
       "      <th>Size</th>\n",
       "      <th>Installs</th>\n",
       "      <th>Type</th>\n",
       "      <th>Price</th>\n",
       "      <th>Content Rating</th>\n",
       "      <th>Genres</th>\n",
       "      <th>Last Updated</th>\n",
       "      <th>Current Ver</th>\n",
       "      <th>Android Ver</th>\n",
       "      <th>sizenum</th>\n",
       "    </tr>\n",
       "  </thead>\n",
       "  <tbody>\n",
       "    <tr>\n",
       "      <th>0</th>\n",
       "      <td>Photo Editor &amp; Candy Camera &amp; Grid &amp; ScrapBook</td>\n",
       "      <td>ART_AND_DESIGN</td>\n",
       "      <td>4.1</td>\n",
       "      <td>159</td>\n",
       "      <td>19M</td>\n",
       "      <td>10,000+</td>\n",
       "      <td>Free</td>\n",
       "      <td>0</td>\n",
       "      <td>Everyone</td>\n",
       "      <td>Art &amp; Design</td>\n",
       "      <td>January 7, 2018</td>\n",
       "      <td>1.0.0</td>\n",
       "      <td>4.0.3 and up</td>\n",
       "      <td>19.0</td>\n",
       "    </tr>\n",
       "    <tr>\n",
       "      <th>1</th>\n",
       "      <td>Coloring book moana</td>\n",
       "      <td>ART_AND_DESIGN</td>\n",
       "      <td>3.9</td>\n",
       "      <td>967</td>\n",
       "      <td>14M</td>\n",
       "      <td>500,000+</td>\n",
       "      <td>Free</td>\n",
       "      <td>0</td>\n",
       "      <td>Everyone</td>\n",
       "      <td>Art &amp; Design;Pretend Play</td>\n",
       "      <td>January 15, 2018</td>\n",
       "      <td>2.0.0</td>\n",
       "      <td>4.0.3 and up</td>\n",
       "      <td>14.0</td>\n",
       "    </tr>\n",
       "    <tr>\n",
       "      <th>2</th>\n",
       "      <td>U Launcher Lite – FREE Live Cool Themes, Hide ...</td>\n",
       "      <td>ART_AND_DESIGN</td>\n",
       "      <td>4.7</td>\n",
       "      <td>87510</td>\n",
       "      <td>8.7M</td>\n",
       "      <td>5,000,000+</td>\n",
       "      <td>Free</td>\n",
       "      <td>0</td>\n",
       "      <td>Everyone</td>\n",
       "      <td>Art &amp; Design</td>\n",
       "      <td>August 1, 2018</td>\n",
       "      <td>1.2.4</td>\n",
       "      <td>4.0.3 and up</td>\n",
       "      <td>8.7</td>\n",
       "    </tr>\n",
       "  </tbody>\n",
       "</table>\n",
       "</div>"
      ],
      "text/plain": [
       "                                                 App        Category  Rating  \\\n",
       "0     Photo Editor & Candy Camera & Grid & ScrapBook  ART_AND_DESIGN     4.1   \n",
       "1                                Coloring book moana  ART_AND_DESIGN     3.9   \n",
       "2  U Launcher Lite – FREE Live Cool Themes, Hide ...  ART_AND_DESIGN     4.7   \n",
       "\n",
       "  Reviews  Size    Installs  Type Price Content Rating  \\\n",
       "0     159   19M     10,000+  Free     0       Everyone   \n",
       "1     967   14M    500,000+  Free     0       Everyone   \n",
       "2   87510  8.7M  5,000,000+  Free     0       Everyone   \n",
       "\n",
       "                      Genres      Last Updated Current Ver   Android Ver  \\\n",
       "0               Art & Design   January 7, 2018       1.0.0  4.0.3 and up   \n",
       "1  Art & Design;Pretend Play  January 15, 2018       2.0.0  4.0.3 and up   \n",
       "2               Art & Design    August 1, 2018       1.2.4  4.0.3 and up   \n",
       "\n",
       "   sizenum  \n",
       "0     19.0  \n",
       "1     14.0  \n",
       "2      8.7  "
      ]
     },
     "execution_count": 19,
     "metadata": {},
     "output_type": "execute_result"
    }
   ],
   "source": [
    "df.head(3)"
   ]
  },
  {
   "cell_type": "code",
   "execution_count": 20,
   "id": "f78d83b8",
   "metadata": {},
   "outputs": [],
   "source": [
    "import numpy as np"
   ]
  },
  {
   "cell_type": "code",
   "execution_count": 21,
   "id": "2f27cff0",
   "metadata": {},
   "outputs": [],
   "source": [
    "df[\"sizenum\"] = np.where(df[\"Size\"].str.contains(\"M\") , df[\"sizenum\"]*1000 , df[\"sizenum\"])\n",
    "\n"
   ]
  },
  {
   "cell_type": "code",
   "execution_count": 22,
   "id": "65f9818a",
   "metadata": {},
   "outputs": [],
   "source": [
    "df[\"Size\"] = df[\"sizenum\"] #copy all values of sizenum to size col"
   ]
  },
  {
   "cell_type": "code",
   "execution_count": 23,
   "id": "7f8d0f86",
   "metadata": {},
   "outputs": [],
   "source": [
    "df.drop(\"sizenum\",axis=1,inplace=True)"
   ]
  },
  {
   "cell_type": "code",
   "execution_count": 24,
   "id": "6fde5fd2",
   "metadata": {},
   "outputs": [
    {
     "data": {
      "text/html": [
       "<div>\n",
       "<style scoped>\n",
       "    .dataframe tbody tr th:only-of-type {\n",
       "        vertical-align: middle;\n",
       "    }\n",
       "\n",
       "    .dataframe tbody tr th {\n",
       "        vertical-align: top;\n",
       "    }\n",
       "\n",
       "    .dataframe thead th {\n",
       "        text-align: right;\n",
       "    }\n",
       "</style>\n",
       "<table border=\"1\" class=\"dataframe\">\n",
       "  <thead>\n",
       "    <tr style=\"text-align: right;\">\n",
       "      <th></th>\n",
       "      <th>App</th>\n",
       "      <th>Category</th>\n",
       "      <th>Rating</th>\n",
       "      <th>Reviews</th>\n",
       "      <th>Size</th>\n",
       "      <th>Installs</th>\n",
       "      <th>Type</th>\n",
       "      <th>Price</th>\n",
       "      <th>Content Rating</th>\n",
       "      <th>Genres</th>\n",
       "      <th>Last Updated</th>\n",
       "      <th>Current Ver</th>\n",
       "      <th>Android Ver</th>\n",
       "    </tr>\n",
       "  </thead>\n",
       "  <tbody>\n",
       "    <tr>\n",
       "      <th>0</th>\n",
       "      <td>Photo Editor &amp; Candy Camera &amp; Grid &amp; ScrapBook</td>\n",
       "      <td>ART_AND_DESIGN</td>\n",
       "      <td>4.1</td>\n",
       "      <td>159</td>\n",
       "      <td>19000.0</td>\n",
       "      <td>10,000+</td>\n",
       "      <td>Free</td>\n",
       "      <td>0</td>\n",
       "      <td>Everyone</td>\n",
       "      <td>Art &amp; Design</td>\n",
       "      <td>January 7, 2018</td>\n",
       "      <td>1.0.0</td>\n",
       "      <td>4.0.3 and up</td>\n",
       "    </tr>\n",
       "    <tr>\n",
       "      <th>1</th>\n",
       "      <td>Coloring book moana</td>\n",
       "      <td>ART_AND_DESIGN</td>\n",
       "      <td>3.9</td>\n",
       "      <td>967</td>\n",
       "      <td>14000.0</td>\n",
       "      <td>500,000+</td>\n",
       "      <td>Free</td>\n",
       "      <td>0</td>\n",
       "      <td>Everyone</td>\n",
       "      <td>Art &amp; Design;Pretend Play</td>\n",
       "      <td>January 15, 2018</td>\n",
       "      <td>2.0.0</td>\n",
       "      <td>4.0.3 and up</td>\n",
       "    </tr>\n",
       "    <tr>\n",
       "      <th>2</th>\n",
       "      <td>U Launcher Lite – FREE Live Cool Themes, Hide ...</td>\n",
       "      <td>ART_AND_DESIGN</td>\n",
       "      <td>4.7</td>\n",
       "      <td>87510</td>\n",
       "      <td>8700.0</td>\n",
       "      <td>5,000,000+</td>\n",
       "      <td>Free</td>\n",
       "      <td>0</td>\n",
       "      <td>Everyone</td>\n",
       "      <td>Art &amp; Design</td>\n",
       "      <td>August 1, 2018</td>\n",
       "      <td>1.2.4</td>\n",
       "      <td>4.0.3 and up</td>\n",
       "    </tr>\n",
       "  </tbody>\n",
       "</table>\n",
       "</div>"
      ],
      "text/plain": [
       "                                                 App        Category  Rating  \\\n",
       "0     Photo Editor & Candy Camera & Grid & ScrapBook  ART_AND_DESIGN     4.1   \n",
       "1                                Coloring book moana  ART_AND_DESIGN     3.9   \n",
       "2  U Launcher Lite – FREE Live Cool Themes, Hide ...  ART_AND_DESIGN     4.7   \n",
       "\n",
       "  Reviews     Size    Installs  Type Price Content Rating  \\\n",
       "0     159  19000.0     10,000+  Free     0       Everyone   \n",
       "1     967  14000.0    500,000+  Free     0       Everyone   \n",
       "2   87510   8700.0  5,000,000+  Free     0       Everyone   \n",
       "\n",
       "                      Genres      Last Updated Current Ver   Android Ver  \n",
       "0               Art & Design   January 7, 2018       1.0.0  4.0.3 and up  \n",
       "1  Art & Design;Pretend Play  January 15, 2018       2.0.0  4.0.3 and up  \n",
       "2               Art & Design    August 1, 2018       1.2.4  4.0.3 and up  "
      ]
     },
     "execution_count": 24,
     "metadata": {},
     "output_type": "execute_result"
    }
   ],
   "source": [
    "df.head(3)"
   ]
  },
  {
   "cell_type": "markdown",
   "id": "f9f80c9f",
   "metadata": {},
   "source": [
    "# Installs field is currently stored as string and has values like 1,000,000+. \n",
    "\n",
    "Treat 1,000,000+ as 1,000,000\n",
    "\n",
    "remove ‘+’, ‘,’ from the field, convert it to integer"
   ]
  },
  {
   "cell_type": "code",
   "execution_count": 25,
   "id": "2ea35abe",
   "metadata": {},
   "outputs": [],
   "source": [
    "df.Reviews = pd.to_numeric(df.Reviews)\n",
    "\n"
   ]
  },
  {
   "cell_type": "code",
   "execution_count": 26,
   "id": "750254ee",
   "metadata": {},
   "outputs": [
    {
     "data": {
      "text/plain": [
       "dtype('int64')"
      ]
     },
     "execution_count": 26,
     "metadata": {},
     "output_type": "execute_result"
    }
   ],
   "source": [
    "df[\"Reviews\"].dtype\n",
    "\n"
   ]
  },
  {
   "cell_type": "code",
   "execution_count": 27,
   "id": "ecb8124b",
   "metadata": {},
   "outputs": [
    {
     "name": "stderr",
     "output_type": "stream",
     "text": [
      "<ipython-input-27-513ddf0ada5f>:1: FutureWarning: The default value of regex will change from True to False in a future version. In addition, single character regular expressions will*not* be treated as literal strings when regex=True.\n",
      "  df['Installs']=df.Installs.str.replace(\"+\",\"\")\n"
     ]
    },
    {
     "data": {
      "text/plain": [
       "dtype('int64')"
      ]
     },
     "execution_count": 27,
     "metadata": {},
     "output_type": "execute_result"
    }
   ],
   "source": [
    "df['Installs']=df.Installs.str.replace(\"+\",\"\")\n",
    "df.Installs=df.Installs.str.replace(\",\",\"\")\n",
    "df.Installs=pd.to_numeric(df.Installs)\n",
    "df.Installs.dtype"
   ]
  },
  {
   "cell_type": "code",
   "execution_count": 28,
   "id": "88caaacf",
   "metadata": {},
   "outputs": [
    {
     "data": {
      "text/plain": [
       "0         7146\n",
       "$0.99      105\n",
       "$2.99      101\n",
       "$4.99       63\n",
       "$1.99       53\n",
       "          ... \n",
       "$3.04        1\n",
       "$1.97        1\n",
       "$1.61        1\n",
       "$15.46       1\n",
       "$1.76        1\n",
       "Name: Price, Length: 68, dtype: int64"
      ]
     },
     "execution_count": 28,
     "metadata": {},
     "output_type": "execute_result"
    }
   ],
   "source": [
    "df[\"Price\"].value_counts()"
   ]
  },
  {
   "cell_type": "markdown",
   "id": "231b5cf3",
   "metadata": {},
   "source": [
    "# Price field is a string and has $ symbol. Remove ‘$’ sign, and convert it to numeric."
   ]
  },
  {
   "cell_type": "code",
   "execution_count": 29,
   "id": "172e3808",
   "metadata": {},
   "outputs": [
    {
     "name": "stderr",
     "output_type": "stream",
     "text": [
      "<ipython-input-29-a6b29f735083>:1: FutureWarning: The default value of regex will change from True to False in a future version. In addition, single character regular expressions will*not* be treated as literal strings when regex=True.\n",
      "  df['Price']=df.Price.str.replace(\"$\",\"\")\n"
     ]
    },
    {
     "data": {
      "text/plain": [
       "dtype('float64')"
      ]
     },
     "execution_count": 29,
     "metadata": {},
     "output_type": "execute_result"
    }
   ],
   "source": [
    "df['Price']=df.Price.str.replace(\"$\",\"\")\n",
    "df.Price=pd.to_numeric(df.Price)\n",
    "df.Price.dtype"
   ]
  },
  {
   "cell_type": "markdown",
   "id": "d57bab2e",
   "metadata": {},
   "source": [
    "# Sanity checks:\n",
    "\n",
    "Average rating should be between 1 and 5 as only these values are allowed on the play store. Drop the rows that have a value outside this range.\n",
    "\n",
    "Reviews should not be more than installs as only those who installed can review the app. If there are any such records, drop them.\n",
    "\n",
    "For free apps (type = “Free”), the price should not be >0. Drop any such rows."
   ]
  },
  {
   "cell_type": "code",
   "execution_count": 31,
   "id": "065810d4",
   "metadata": {},
   "outputs": [],
   "source": [
    "df = df[(df[\"Rating\"]>=1) & (df[\"Rating\"]<=5)]"
   ]
  },
  {
   "cell_type": "code",
   "execution_count": 32,
   "id": "7e5e69ef",
   "metadata": {},
   "outputs": [],
   "source": [
    "df = df[df[\"Reviews\"]<=df[\"Installs\"]]"
   ]
  },
  {
   "cell_type": "code",
   "execution_count": 33,
   "id": "8cbfc8ba",
   "metadata": {},
   "outputs": [
    {
     "data": {
      "text/plain": [
       "7717"
      ]
     },
     "execution_count": 33,
     "metadata": {},
     "output_type": "execute_result"
    }
   ],
   "source": [
    "len(df.index)"
   ]
  },
  {
   "cell_type": "code",
   "execution_count": 3,
   "id": "3f2a29b6",
   "metadata": {},
   "outputs": [
    {
     "data": {
      "text/plain": [
       "(2952, 13)"
      ]
     },
     "execution_count": 3,
     "metadata": {},
     "output_type": "execute_result"
    }
   ],
   "source": [
    "rows=df[df.Installs < df.Reviews].index\n",
    "df.drop(rows,axis=0,inplace=True)\n",
    "df.shape"
   ]
  },
  {
   "cell_type": "code",
   "execution_count": 34,
   "id": "b9b2407d",
   "metadata": {},
   "outputs": [
    {
     "data": {
      "text/html": [
       "<div>\n",
       "<style scoped>\n",
       "    .dataframe tbody tr th:only-of-type {\n",
       "        vertical-align: middle;\n",
       "    }\n",
       "\n",
       "    .dataframe tbody tr th {\n",
       "        vertical-align: top;\n",
       "    }\n",
       "\n",
       "    .dataframe thead th {\n",
       "        text-align: right;\n",
       "    }\n",
       "</style>\n",
       "<table border=\"1\" class=\"dataframe\">\n",
       "  <thead>\n",
       "    <tr style=\"text-align: right;\">\n",
       "      <th></th>\n",
       "      <th>App</th>\n",
       "      <th>Category</th>\n",
       "      <th>Rating</th>\n",
       "      <th>Reviews</th>\n",
       "      <th>Size</th>\n",
       "      <th>Installs</th>\n",
       "      <th>Type</th>\n",
       "      <th>Price</th>\n",
       "      <th>Content Rating</th>\n",
       "      <th>Genres</th>\n",
       "      <th>Last Updated</th>\n",
       "      <th>Current Ver</th>\n",
       "      <th>Android Ver</th>\n",
       "    </tr>\n",
       "  </thead>\n",
       "  <tbody>\n",
       "  </tbody>\n",
       "</table>\n",
       "</div>"
      ],
      "text/plain": [
       "Empty DataFrame\n",
       "Columns: [App, Category, Rating, Reviews, Size, Installs, Type, Price, Content Rating, Genres, Last Updated, Current Ver, Android Ver]\n",
       "Index: []"
      ]
     },
     "execution_count": 34,
     "metadata": {},
     "output_type": "execute_result"
    }
   ],
   "source": [
    "df[(df[\"Type\"] == \"Free\") & (df[\"Price\"] > 0)]"
   ]
  },
  {
   "cell_type": "markdown",
   "id": "9633fb14",
   "metadata": {},
   "source": [
    "# 5. Performing univariate analysis: \n",
    "\n",
    "Boxplot for Price\n",
    "\n",
    "Are there any outliers? Think about the price of usual apps on Play Store.\n",
    "\n"
   ]
  },
  {
   "cell_type": "code",
   "execution_count": 35,
   "id": "b7008768",
   "metadata": {},
   "outputs": [],
   "source": [
    "import seaborn as sns"
   ]
  },
  {
   "cell_type": "code",
   "execution_count": 36,
   "id": "6f349c25",
   "metadata": {},
   "outputs": [
    {
     "data": {
      "text/plain": [
       "<AxesSubplot:xlabel='Price'>"
      ]
     },
     "execution_count": 36,
     "metadata": {},
     "output_type": "execute_result"
    },
    {
     "data": {
      "image/png": "[encoded data removed]",
      "text/plain": [
       "<Figure size 432x288 with 1 Axes>"
      ]
     },
     "metadata": {
      "needs_background": "light"
     },
     "output_type": "display_data"
    }
   ],
   "source": [
    "sns.boxplot(x=\"Price\",data=df)"
   ]
  },
  {
   "cell_type": "markdown",
   "id": "09beb829",
   "metadata": {},
   "source": [
    "# Boxplot for Reviews\n",
    "\n",
    "Are there any apps with very high number of reviews? Do the values seem right?"
   ]
  },
  {
   "cell_type": "code",
   "execution_count": 37,
   "id": "107623b0",
   "metadata": {},
   "outputs": [
    {
     "data": {
      "text/plain": [
       "<AxesSubplot:xlabel='Reviews'>"
      ]
     },
     "execution_count": 37,
     "metadata": {},
     "output_type": "execute_result"
    },
    {
     "data": {
      "image/png": "[encoded data removed]",
      "text/plain": [
       "<Figure size 432x288 with 1 Axes>"
      ]
     },
     "metadata": {
      "needs_background": "light"
     },
     "output_type": "display_data"
    }
   ],
   "source": [
    "sns.boxplot(x=\"Reviews\",data=df)"
   ]
  },
  {
   "cell_type": "markdown",
   "id": "0a5b222a",
   "metadata": {},
   "source": [
    "# Histogram for Rating\n",
    "\n",
    "How are the ratings distributed? Is it more toward higher ratings?"
   ]
  },
  {
   "cell_type": "code",
   "execution_count": 38,
   "id": "e1fc815a",
   "metadata": {},
   "outputs": [
    {
     "data": {
      "text/plain": [
       "(array([  17.,   18.,   39.,   72.,  132.,  408.,  781., 1406., 3212.,\n",
       "        1632.]),\n",
       " array([1. , 1.4, 1.8, 2.2, 2.6, 3. , 3.4, 3.8, 4.2, 4.6, 5. ]),\n",
       " <BarContainer object of 10 artists>)"
      ]
     },
     "execution_count": 38,
     "metadata": {},
     "output_type": "execute_result"
    },
    {
     "data": {
      "image/png": "[encoded data removed]",
      "text/plain": [
       "<Figure size 432x288 with 1 Axes>"
      ]
     },
     "metadata": {
      "needs_background": "light"
     },
     "output_type": "display_data"
    }
   ],
   "source": [
    "plt.hist(df.Rating)"
   ]
  },
  {
   "cell_type": "markdown",
   "id": "2506bb19",
   "metadata": {},
   "source": [
    "# Histogram for Size\n",
    "\n",
    "Note down your observations for the plots made above. Which of these seem to have outliers?"
   ]
  },
  {
   "cell_type": "code",
   "execution_count": 39,
   "id": "a8495b8b",
   "metadata": {},
   "outputs": [
    {
     "data": {
      "text/plain": [
       "(array([3245., 1398.,  991.,  606.,  449.,  325.,  226.,  161.,  117.,\n",
       "         199.]),\n",
       " array([8.500000e+00, 1.000765e+04, 2.000680e+04, 3.000595e+04,\n",
       "        4.000510e+04, 5.000425e+04, 6.000340e+04, 7.000255e+04,\n",
       "        8.000170e+04, 9.000085e+04, 1.000000e+05]),\n",
       " <BarContainer object of 10 artists>)"
      ]
     },
     "execution_count": 39,
     "metadata": {},
     "output_type": "execute_result"
    },
    {
     "data": {
      "image/png": "[encoded data removed]",
      "text/plain": [
       "<Figure size 432x288 with 1 Axes>"
      ]
     },
     "metadata": {
      "needs_background": "light"
     },
     "output_type": "display_data"
    }
   ],
   "source": [
    "plt.hist(df.Size)"
   ]
  },
  {
   "cell_type": "markdown",
   "id": "0332291f",
   "metadata": {},
   "source": [
    "# 6. Outlier treatment: \n",
    "\n",
    "Price: From the box plot, it seems like there are some apps with very high price. A price of $200 for an application on the Play Store is very high and suspicious!\n",
    "\n",
    "Check out the records with very high price\n",
    "\n",
    "Is 200 indeed a high price?\n",
    "\n",
    "Drop these as most seem to be junk apps\n",
    "\n",
    "Reviews: Very few apps have very high number of reviews. These are all star apps that don’t help with the analysis and, in fact, will skew it. Drop records having more than 2 million reviews.\n",
    "\n",
    "Installs:  There seems to be some outliers in this field too. Apps having very high number of installs should be dropped from the analysis.\n",
    "\n",
    "Find out the different percentiles – 10, 25, 50, 70, 90, 95, 99\n",
    "\n",
    "Decide a threshold as cutoff for outlier and drop records having values more than that"
   ]
  },
  {
   "cell_type": "code",
   "execution_count": 40,
   "id": "62749bad",
   "metadata": {},
   "outputs": [
    {
     "data": {
      "text/html": [
       "<div>\n",
       "<style scoped>\n",
       "    .dataframe tbody tr th:only-of-type {\n",
       "        vertical-align: middle;\n",
       "    }\n",
       "\n",
       "    .dataframe tbody tr th {\n",
       "        vertical-align: top;\n",
       "    }\n",
       "\n",
       "    .dataframe thead th {\n",
       "        text-align: right;\n",
       "    }\n",
       "</style>\n",
       "<table border=\"1\" class=\"dataframe\">\n",
       "  <thead>\n",
       "    <tr style=\"text-align: right;\">\n",
       "      <th></th>\n",
       "      <th>App</th>\n",
       "      <th>Category</th>\n",
       "      <th>Rating</th>\n",
       "      <th>Reviews</th>\n",
       "      <th>Size</th>\n",
       "      <th>Installs</th>\n",
       "      <th>Type</th>\n",
       "      <th>Price</th>\n",
       "      <th>Content Rating</th>\n",
       "      <th>Genres</th>\n",
       "      <th>Last Updated</th>\n",
       "      <th>Current Ver</th>\n",
       "      <th>Android Ver</th>\n",
       "    </tr>\n",
       "  </thead>\n",
       "  <tbody>\n",
       "    <tr>\n",
       "      <th>4197</th>\n",
       "      <td>most expensive app (H)</td>\n",
       "      <td>FAMILY</td>\n",
       "      <td>4.3</td>\n",
       "      <td>6</td>\n",
       "      <td>1500.0</td>\n",
       "      <td>100</td>\n",
       "      <td>Paid</td>\n",
       "      <td>399.99</td>\n",
       "      <td>Everyone</td>\n",
       "      <td>Entertainment</td>\n",
       "      <td>July 16, 2018</td>\n",
       "      <td>1.0</td>\n",
       "      <td>7.0 and up</td>\n",
       "    </tr>\n",
       "    <tr>\n",
       "      <th>4362</th>\n",
       "      <td>💎 I'm rich</td>\n",
       "      <td>LIFESTYLE</td>\n",
       "      <td>3.8</td>\n",
       "      <td>718</td>\n",
       "      <td>26000.0</td>\n",
       "      <td>10000</td>\n",
       "      <td>Paid</td>\n",
       "      <td>399.99</td>\n",
       "      <td>Everyone</td>\n",
       "      <td>Lifestyle</td>\n",
       "      <td>March 11, 2018</td>\n",
       "      <td>1.0.0</td>\n",
       "      <td>4.4 and up</td>\n",
       "    </tr>\n",
       "    <tr>\n",
       "      <th>4367</th>\n",
       "      <td>I'm Rich - Trump Edition</td>\n",
       "      <td>LIFESTYLE</td>\n",
       "      <td>3.6</td>\n",
       "      <td>275</td>\n",
       "      <td>7300.0</td>\n",
       "      <td>10000</td>\n",
       "      <td>Paid</td>\n",
       "      <td>400.00</td>\n",
       "      <td>Everyone</td>\n",
       "      <td>Lifestyle</td>\n",
       "      <td>May 3, 2018</td>\n",
       "      <td>1.0.1</td>\n",
       "      <td>4.1 and up</td>\n",
       "    </tr>\n",
       "    <tr>\n",
       "      <th>5351</th>\n",
       "      <td>I am rich</td>\n",
       "      <td>LIFESTYLE</td>\n",
       "      <td>3.8</td>\n",
       "      <td>3547</td>\n",
       "      <td>1800.0</td>\n",
       "      <td>100000</td>\n",
       "      <td>Paid</td>\n",
       "      <td>399.99</td>\n",
       "      <td>Everyone</td>\n",
       "      <td>Lifestyle</td>\n",
       "      <td>January 12, 2018</td>\n",
       "      <td>2.0</td>\n",
       "      <td>4.0.3 and up</td>\n",
       "    </tr>\n",
       "    <tr>\n",
       "      <th>5354</th>\n",
       "      <td>I am Rich Plus</td>\n",
       "      <td>FAMILY</td>\n",
       "      <td>4.0</td>\n",
       "      <td>856</td>\n",
       "      <td>8700.0</td>\n",
       "      <td>10000</td>\n",
       "      <td>Paid</td>\n",
       "      <td>399.99</td>\n",
       "      <td>Everyone</td>\n",
       "      <td>Entertainment</td>\n",
       "      <td>May 19, 2018</td>\n",
       "      <td>3.0</td>\n",
       "      <td>4.4 and up</td>\n",
       "    </tr>\n",
       "    <tr>\n",
       "      <th>5355</th>\n",
       "      <td>I am rich VIP</td>\n",
       "      <td>LIFESTYLE</td>\n",
       "      <td>3.8</td>\n",
       "      <td>411</td>\n",
       "      <td>2600.0</td>\n",
       "      <td>10000</td>\n",
       "      <td>Paid</td>\n",
       "      <td>299.99</td>\n",
       "      <td>Everyone</td>\n",
       "      <td>Lifestyle</td>\n",
       "      <td>July 21, 2018</td>\n",
       "      <td>1.1.1</td>\n",
       "      <td>4.3 and up</td>\n",
       "    </tr>\n",
       "    <tr>\n",
       "      <th>5356</th>\n",
       "      <td>I Am Rich Premium</td>\n",
       "      <td>FINANCE</td>\n",
       "      <td>4.1</td>\n",
       "      <td>1867</td>\n",
       "      <td>4700.0</td>\n",
       "      <td>50000</td>\n",
       "      <td>Paid</td>\n",
       "      <td>399.99</td>\n",
       "      <td>Everyone</td>\n",
       "      <td>Finance</td>\n",
       "      <td>November 12, 2017</td>\n",
       "      <td>1.6</td>\n",
       "      <td>4.0 and up</td>\n",
       "    </tr>\n",
       "    <tr>\n",
       "      <th>5357</th>\n",
       "      <td>I am extremely Rich</td>\n",
       "      <td>LIFESTYLE</td>\n",
       "      <td>2.9</td>\n",
       "      <td>41</td>\n",
       "      <td>2900.0</td>\n",
       "      <td>1000</td>\n",
       "      <td>Paid</td>\n",
       "      <td>379.99</td>\n",
       "      <td>Everyone</td>\n",
       "      <td>Lifestyle</td>\n",
       "      <td>July 1, 2018</td>\n",
       "      <td>1.0</td>\n",
       "      <td>4.0 and up</td>\n",
       "    </tr>\n",
       "    <tr>\n",
       "      <th>5358</th>\n",
       "      <td>I am Rich!</td>\n",
       "      <td>FINANCE</td>\n",
       "      <td>3.8</td>\n",
       "      <td>93</td>\n",
       "      <td>22000.0</td>\n",
       "      <td>1000</td>\n",
       "      <td>Paid</td>\n",
       "      <td>399.99</td>\n",
       "      <td>Everyone</td>\n",
       "      <td>Finance</td>\n",
       "      <td>December 11, 2017</td>\n",
       "      <td>1.0</td>\n",
       "      <td>4.1 and up</td>\n",
       "    </tr>\n",
       "    <tr>\n",
       "      <th>5359</th>\n",
       "      <td>I am rich(premium)</td>\n",
       "      <td>FINANCE</td>\n",
       "      <td>3.5</td>\n",
       "      <td>472</td>\n",
       "      <td>965.0</td>\n",
       "      <td>5000</td>\n",
       "      <td>Paid</td>\n",
       "      <td>399.99</td>\n",
       "      <td>Everyone</td>\n",
       "      <td>Finance</td>\n",
       "      <td>May 1, 2017</td>\n",
       "      <td>3.4</td>\n",
       "      <td>4.4 and up</td>\n",
       "    </tr>\n",
       "    <tr>\n",
       "      <th>5362</th>\n",
       "      <td>I Am Rich Pro</td>\n",
       "      <td>FAMILY</td>\n",
       "      <td>4.4</td>\n",
       "      <td>201</td>\n",
       "      <td>2700.0</td>\n",
       "      <td>5000</td>\n",
       "      <td>Paid</td>\n",
       "      <td>399.99</td>\n",
       "      <td>Everyone</td>\n",
       "      <td>Entertainment</td>\n",
       "      <td>May 30, 2017</td>\n",
       "      <td>1.54</td>\n",
       "      <td>1.6 and up</td>\n",
       "    </tr>\n",
       "    <tr>\n",
       "      <th>5364</th>\n",
       "      <td>I am rich (Most expensive app)</td>\n",
       "      <td>FINANCE</td>\n",
       "      <td>4.1</td>\n",
       "      <td>129</td>\n",
       "      <td>2700.0</td>\n",
       "      <td>1000</td>\n",
       "      <td>Paid</td>\n",
       "      <td>399.99</td>\n",
       "      <td>Teen</td>\n",
       "      <td>Finance</td>\n",
       "      <td>December 6, 2017</td>\n",
       "      <td>2</td>\n",
       "      <td>4.0.3 and up</td>\n",
       "    </tr>\n",
       "    <tr>\n",
       "      <th>5366</th>\n",
       "      <td>I Am Rich</td>\n",
       "      <td>FAMILY</td>\n",
       "      <td>3.6</td>\n",
       "      <td>217</td>\n",
       "      <td>4900.0</td>\n",
       "      <td>10000</td>\n",
       "      <td>Paid</td>\n",
       "      <td>389.99</td>\n",
       "      <td>Everyone</td>\n",
       "      <td>Entertainment</td>\n",
       "      <td>June 22, 2018</td>\n",
       "      <td>1.5</td>\n",
       "      <td>4.2 and up</td>\n",
       "    </tr>\n",
       "    <tr>\n",
       "      <th>5369</th>\n",
       "      <td>I am Rich</td>\n",
       "      <td>FINANCE</td>\n",
       "      <td>4.3</td>\n",
       "      <td>180</td>\n",
       "      <td>3800.0</td>\n",
       "      <td>5000</td>\n",
       "      <td>Paid</td>\n",
       "      <td>399.99</td>\n",
       "      <td>Everyone</td>\n",
       "      <td>Finance</td>\n",
       "      <td>March 22, 2018</td>\n",
       "      <td>1.0</td>\n",
       "      <td>4.2 and up</td>\n",
       "    </tr>\n",
       "    <tr>\n",
       "      <th>5373</th>\n",
       "      <td>I AM RICH PRO PLUS</td>\n",
       "      <td>FINANCE</td>\n",
       "      <td>4.0</td>\n",
       "      <td>36</td>\n",
       "      <td>41000.0</td>\n",
       "      <td>1000</td>\n",
       "      <td>Paid</td>\n",
       "      <td>399.99</td>\n",
       "      <td>Everyone</td>\n",
       "      <td>Finance</td>\n",
       "      <td>June 25, 2018</td>\n",
       "      <td>1.0.2</td>\n",
       "      <td>4.1 and up</td>\n",
       "    </tr>\n",
       "  </tbody>\n",
       "</table>\n",
       "</div>"
      ],
      "text/plain": [
       "                                 App   Category  Rating  Reviews     Size  \\\n",
       "4197          most expensive app (H)     FAMILY     4.3        6   1500.0   \n",
       "4362                      💎 I'm rich  LIFESTYLE     3.8      718  26000.0   \n",
       "4367        I'm Rich - Trump Edition  LIFESTYLE     3.6      275   7300.0   \n",
       "5351                       I am rich  LIFESTYLE     3.8     3547   1800.0   \n",
       "5354                  I am Rich Plus     FAMILY     4.0      856   8700.0   \n",
       "5355                   I am rich VIP  LIFESTYLE     3.8      411   2600.0   \n",
       "5356               I Am Rich Premium    FINANCE     4.1     1867   4700.0   \n",
       "5357             I am extremely Rich  LIFESTYLE     2.9       41   2900.0   \n",
       "5358                      I am Rich!    FINANCE     3.8       93  22000.0   \n",
       "5359              I am rich(premium)    FINANCE     3.5      472    965.0   \n",
       "5362                   I Am Rich Pro     FAMILY     4.4      201   2700.0   \n",
       "5364  I am rich (Most expensive app)    FINANCE     4.1      129   2700.0   \n",
       "5366                       I Am Rich     FAMILY     3.6      217   4900.0   \n",
       "5369                       I am Rich    FINANCE     4.3      180   3800.0   \n",
       "5373              I AM RICH PRO PLUS    FINANCE     4.0       36  41000.0   \n",
       "\n",
       "      Installs  Type   Price Content Rating         Genres       Last Updated  \\\n",
       "4197       100  Paid  399.99       Everyone  Entertainment      July 16, 2018   \n",
       "4362     10000  Paid  399.99       Everyone      Lifestyle     March 11, 2018   \n",
       "4367     10000  Paid  400.00       Everyone      Lifestyle        May 3, 2018   \n",
       "5351    100000  Paid  399.99       Everyone      Lifestyle   January 12, 2018   \n",
       "5354     10000  Paid  399.99       Everyone  Entertainment       May 19, 2018   \n",
       "5355     10000  Paid  299.99       Everyone      Lifestyle      July 21, 2018   \n",
       "5356     50000  Paid  399.99       Everyone        Finance  November 12, 2017   \n",
       "5357      1000  Paid  379.99       Everyone      Lifestyle       July 1, 2018   \n",
       "5358      1000  Paid  399.99       Everyone        Finance  December 11, 2017   \n",
       "5359      5000  Paid  399.99       Everyone        Finance        May 1, 2017   \n",
       "5362      5000  Paid  399.99       Everyone  Entertainment       May 30, 2017   \n",
       "5364      1000  Paid  399.99           Teen        Finance   December 6, 2017   \n",
       "5366     10000  Paid  389.99       Everyone  Entertainment      June 22, 2018   \n",
       "5369      5000  Paid  399.99       Everyone        Finance     March 22, 2018   \n",
       "5373      1000  Paid  399.99       Everyone        Finance      June 25, 2018   \n",
       "\n",
       "     Current Ver   Android Ver  \n",
       "4197         1.0    7.0 and up  \n",
       "4362       1.0.0    4.4 and up  \n",
       "4367       1.0.1    4.1 and up  \n",
       "5351         2.0  4.0.3 and up  \n",
       "5354         3.0    4.4 and up  \n",
       "5355       1.1.1    4.3 and up  \n",
       "5356         1.6    4.0 and up  \n",
       "5357         1.0    4.0 and up  \n",
       "5358         1.0    4.1 and up  \n",
       "5359         3.4    4.4 and up  \n",
       "5362        1.54    1.6 and up  \n",
       "5364           2  4.0.3 and up  \n",
       "5366         1.5    4.2 and up  \n",
       "5369         1.0    4.2 and up  \n",
       "5373       1.0.2    4.1 and up  "
      ]
     },
     "execution_count": 40,
     "metadata": {},
     "output_type": "execute_result"
    }
   ],
   "source": [
    "df[df[\"Price\"] >=200]"
   ]
  },
  {
   "cell_type": "code",
   "execution_count": 41,
   "id": "4feb8298",
   "metadata": {},
   "outputs": [
    {
     "data": {
      "text/plain": [
       "15"
      ]
     },
     "execution_count": 41,
     "metadata": {},
     "output_type": "execute_result"
    }
   ],
   "source": [
    "len(df[df[\"Price\"] >=200])"
   ]
  },
  {
   "cell_type": "code",
   "execution_count": 42,
   "id": "2926a183",
   "metadata": {},
   "outputs": [],
   "source": [
    "df = df.drop(df.index[df[\"Price\"] >=200])"
   ]
  },
  {
   "cell_type": "code",
   "execution_count": 43,
   "id": "51caa1b8",
   "metadata": {},
   "outputs": [
    {
     "data": {
      "text/plain": [
       "7483"
      ]
     },
     "execution_count": 43,
     "metadata": {},
     "output_type": "execute_result"
    }
   ],
   "source": [
    "df.drop(df.index[(df.Reviews>=2000000)], inplace=True)\n",
    "len(df.index)"
   ]
  },
  {
   "cell_type": "code",
   "execution_count": 44,
   "id": "0913244f",
   "metadata": {},
   "outputs": [
    {
     "data": {
      "text/plain": [
       "10000000.0"
      ]
     },
     "execution_count": 44,
     "metadata": {},
     "output_type": "execute_result"
    }
   ],
   "source": [
    "np.percentile(df[\"Installs\"],90)"
   ]
  },
  {
   "cell_type": "code",
   "execution_count": 45,
   "id": "962ed5fa",
   "metadata": {},
   "outputs": [],
   "source": [
    "install_99_perc = np.percentile(df[\"Installs\"],99)"
   ]
  },
  {
   "cell_type": "code",
   "execution_count": 46,
   "id": "b96c647d",
   "metadata": {},
   "outputs": [
    {
     "data": {
      "text/plain": [
       "50000000.0"
      ]
     },
     "execution_count": 46,
     "metadata": {},
     "output_type": "execute_result"
    }
   ],
   "source": [
    "install_99_perc"
   ]
  },
  {
   "cell_type": "code",
   "execution_count": 47,
   "id": "4103c0f3",
   "metadata": {},
   "outputs": [],
   "source": [
    "df.drop(df.index[df.Installs >= install_99_perc],inplace=True)"
   ]
  },
  {
   "cell_type": "code",
   "execution_count": 48,
   "id": "2efbb172",
   "metadata": {},
   "outputs": [
    {
     "data": {
      "text/plain": [
       "Index(['App', 'Category', 'Rating', 'Reviews', 'Size', 'Installs', 'Type',\n",
       "       'Price', 'Content Rating', 'Genres', 'Last Updated', 'Current Ver',\n",
       "       'Android Ver'],\n",
       "      dtype='object')"
      ]
     },
     "execution_count": 48,
     "metadata": {},
     "output_type": "execute_result"
    }
   ],
   "source": [
    "df.columns"
   ]
  },
  {
   "cell_type": "markdown",
   "id": "14be627d",
   "metadata": {},
   "source": [
    "# 7. Bivariate analysis: Let’s look at how the available predictors relate to the variable of interest, i.e., our target variable rating. Make scatter plots (for numeric features) and box plots (for character features) to assess the relations between rating and the other features.\n",
    "\n",
    "Make scatter plot/joinplot for Rating vs. Price\n",
    "\n",
    "What pattern do you observe? Does rating increase with price?"
   ]
  },
  {
   "cell_type": "code",
   "execution_count": 49,
   "id": "78c3aca6",
   "metadata": {},
   "outputs": [
    {
     "data": {
      "text/plain": [
       "<matplotlib.collections.PathCollection at 0x2d685333f40>"
      ]
     },
     "execution_count": 49,
     "metadata": {},
     "output_type": "execute_result"
    },
    {
     "data": {
      "image/png": "[encoded data removed]",
      "text/plain": [
       "<Figure size 432x288 with 1 Axes>"
      ]
     },
     "metadata": {
      "needs_background": "light"
     },
     "output_type": "display_data"
    }
   ],
   "source": [
    "plt.scatter (x=df.Price, y=df.Rating)"
   ]
  },
  {
   "cell_type": "markdown",
   "id": "b4e60868",
   "metadata": {},
   "source": [
    "# Make scatter plot/joinplot for Rating vs. Size\n",
    "\n",
    "Are heavier apps rated better?"
   ]
  },
  {
   "cell_type": "code",
   "execution_count": 50,
   "id": "68a01639",
   "metadata": {},
   "outputs": [
    {
     "data": {
      "text/plain": [
       "<matplotlib.collections.PathCollection at 0x2d6853a3700>"
      ]
     },
     "execution_count": 50,
     "metadata": {},
     "output_type": "execute_result"
    },
    {
     "data": {
      "image/png": "[encoded data removed]",
      "text/plain": [
       "<Figure size 432x288 with 1 Axes>"
      ]
     },
     "metadata": {
      "needs_background": "light"
     },
     "output_type": "display_data"
    }
   ],
   "source": [
    "plt.scatter (x=df.Size, y=df.Rating)"
   ]
  },
  {
   "cell_type": "markdown",
   "id": "4864237f",
   "metadata": {},
   "source": [
    "# Make scatter plot/joinplot for Rating vs. Reviews\n",
    "\n",
    "Does more review mean a better rating always?"
   ]
  },
  {
   "cell_type": "code",
   "execution_count": 51,
   "id": "58c38f0e",
   "metadata": {},
   "outputs": [
    {
     "data": {
      "text/plain": [
       "<matplotlib.collections.PathCollection at 0x2d6853ffeb0>"
      ]
     },
     "execution_count": 51,
     "metadata": {},
     "output_type": "execute_result"
    },
    {
     "data": {
      "image/png": "[encoded data removed]",
      "text/plain": [
       "<Figure size 432x288 with 1 Axes>"
      ]
     },
     "metadata": {
      "needs_background": "light"
     },
     "output_type": "display_data"
    }
   ],
   "source": [
    "plt.scatter (x=df.Reviews, y=df.Rating)"
   ]
  },
  {
   "cell_type": "markdown",
   "id": "cb1ea476",
   "metadata": {},
   "source": [
    "# Make boxplot for Rating vs. Content Rating\n",
    "\n",
    "Is there any difference in the ratings? Are some types liked better?"
   ]
  },
  {
   "cell_type": "code",
   "execution_count": 52,
   "id": "500631e4",
   "metadata": {},
   "outputs": [
    {
     "data": {
      "text/plain": [
       "<AxesSubplot:xlabel='Content Rating', ylabel='Rating'>"
      ]
     },
     "execution_count": 52,
     "metadata": {},
     "output_type": "execute_result"
    },
    {
     "data": {
      "image/png": "[encoded data removed]",
      "text/plain": [
       "<Figure size 864x432 with 1 Axes>"
      ]
     },
     "metadata": {
      "needs_background": "light"
     },
     "output_type": "display_data"
    }
   ],
   "source": [
    "plt.figure(figsize=[12,6])\n",
    "sns.boxplot(y='Rating',x='Content Rating',data=df)"
   ]
  },
  {
   "cell_type": "markdown",
   "id": "ed3b28d7",
   "metadata": {},
   "source": [
    "# Make boxplot for Ratings vs. Category\n",
    "\n",
    "Which genre has the best ratings?"
   ]
  },
  {
   "cell_type": "code",
   "execution_count": 53,
   "id": "5c26001d",
   "metadata": {
    "scrolled": true
   },
   "outputs": [
    {
     "data": {
      "text/plain": [
       "(array([ 0,  1,  2,  3,  4,  5,  6,  7,  8,  9, 10, 11, 12, 13, 14, 15, 16,\n",
       "        17, 18, 19, 20, 21, 22, 23, 24, 25, 26, 27, 28, 29, 30, 31, 32]),\n",
       " [Text(0, 0, 'ART_AND_DESIGN'),\n",
       "  Text(1, 0, 'AUTO_AND_VEHICLES'),\n",
       "  Text(2, 0, 'BEAUTY'),\n",
       "  Text(3, 0, 'BOOKS_AND_REFERENCE'),\n",
       "  Text(4, 0, 'BUSINESS'),\n",
       "  Text(5, 0, 'COMICS'),\n",
       "  Text(6, 0, 'COMMUNICATION'),\n",
       "  Text(7, 0, 'DATING'),\n",
       "  Text(8, 0, 'EDUCATION'),\n",
       "  Text(9, 0, 'ENTERTAINMENT'),\n",
       "  Text(10, 0, 'EVENTS'),\n",
       "  Text(11, 0, 'FINANCE'),\n",
       "  Text(12, 0, 'FOOD_AND_DRINK'),\n",
       "  Text(13, 0, 'HEALTH_AND_FITNESS'),\n",
       "  Text(14, 0, 'HOUSE_AND_HOME'),\n",
       "  Text(15, 0, 'LIBRARIES_AND_DEMO'),\n",
       "  Text(16, 0, 'LIFESTYLE'),\n",
       "  Text(17, 0, 'GAME'),\n",
       "  Text(18, 0, 'FAMILY'),\n",
       "  Text(19, 0, 'MEDICAL'),\n",
       "  Text(20, 0, 'SOCIAL'),\n",
       "  Text(21, 0, 'SHOPPING'),\n",
       "  Text(22, 0, 'PHOTOGRAPHY'),\n",
       "  Text(23, 0, 'SPORTS'),\n",
       "  Text(24, 0, 'TRAVEL_AND_LOCAL'),\n",
       "  Text(25, 0, 'TOOLS'),\n",
       "  Text(26, 0, 'PERSONALIZATION'),\n",
       "  Text(27, 0, 'PRODUCTIVITY'),\n",
       "  Text(28, 0, 'PARENTING'),\n",
       "  Text(29, 0, 'WEATHER'),\n",
       "  Text(30, 0, 'VIDEO_PLAYERS'),\n",
       "  Text(31, 0, 'NEWS_AND_MAGAZINES'),\n",
       "  Text(32, 0, 'MAPS_AND_NAVIGATION')])"
      ]
     },
     "execution_count": 53,
     "metadata": {},
     "output_type": "execute_result"
    },
    {
     "data": {
      "image/png": "[encoded data removed]",
      "text/plain": [
       "<Figure size 1728x432 with 1 Axes>"
      ]
     },
     "metadata": {
      "needs_background": "light"
     },
     "output_type": "display_data"
    }
   ],
   "source": [
    "plt.figure(figsize=[24,6])\n",
    "sns.boxplot(y='Rating',x='Category',data=df)\n",
    "plt.xticks(rotation=90)"
   ]
  },
  {
   "cell_type": "markdown",
   "id": "3b6eb44e",
   "metadata": {},
   "source": [
    "# 8. Data preprocessing\n",
    "\n",
    "For the steps below, create a copy of the dataframe to make all the edits. Name it inp1.\n",
    "\n",
    "Reviews and Install have some values that are still relatively very high. Before building a linear regression model, you need to reduce the skew. Apply log transformation (np.log1p) to Reviews and Installs."
   ]
  },
  {
   "cell_type": "code",
   "execution_count": 54,
   "id": "031e72b4",
   "metadata": {},
   "outputs": [
    {
     "data": {
      "text/html": [
       "<div>\n",
       "<style scoped>\n",
       "    .dataframe tbody tr th:only-of-type {\n",
       "        vertical-align: middle;\n",
       "    }\n",
       "\n",
       "    .dataframe tbody tr th {\n",
       "        vertical-align: top;\n",
       "    }\n",
       "\n",
       "    .dataframe thead th {\n",
       "        text-align: right;\n",
       "    }\n",
       "</style>\n",
       "<table border=\"1\" class=\"dataframe\">\n",
       "  <thead>\n",
       "    <tr style=\"text-align: right;\">\n",
       "      <th></th>\n",
       "      <th>App</th>\n",
       "      <th>Category</th>\n",
       "      <th>Rating</th>\n",
       "      <th>Reviews</th>\n",
       "      <th>Size</th>\n",
       "      <th>Installs</th>\n",
       "      <th>Type</th>\n",
       "      <th>Price</th>\n",
       "      <th>Content Rating</th>\n",
       "      <th>Genres</th>\n",
       "      <th>Last Updated</th>\n",
       "      <th>Current Ver</th>\n",
       "      <th>Android Ver</th>\n",
       "    </tr>\n",
       "  </thead>\n",
       "  <tbody>\n",
       "    <tr>\n",
       "      <th>0</th>\n",
       "      <td>Photo Editor &amp; Candy Camera &amp; Grid &amp; ScrapBook</td>\n",
       "      <td>ART_AND_DESIGN</td>\n",
       "      <td>4.1</td>\n",
       "      <td>159</td>\n",
       "      <td>19000.0</td>\n",
       "      <td>10000</td>\n",
       "      <td>Free</td>\n",
       "      <td>0.0</td>\n",
       "      <td>Everyone</td>\n",
       "      <td>Art &amp; Design</td>\n",
       "      <td>January 7, 2018</td>\n",
       "      <td>1.0.0</td>\n",
       "      <td>4.0.3 and up</td>\n",
       "    </tr>\n",
       "    <tr>\n",
       "      <th>1</th>\n",
       "      <td>Coloring book moana</td>\n",
       "      <td>ART_AND_DESIGN</td>\n",
       "      <td>3.9</td>\n",
       "      <td>967</td>\n",
       "      <td>14000.0</td>\n",
       "      <td>500000</td>\n",
       "      <td>Free</td>\n",
       "      <td>0.0</td>\n",
       "      <td>Everyone</td>\n",
       "      <td>Art &amp; Design;Pretend Play</td>\n",
       "      <td>January 15, 2018</td>\n",
       "      <td>2.0.0</td>\n",
       "      <td>4.0.3 and up</td>\n",
       "    </tr>\n",
       "    <tr>\n",
       "      <th>2</th>\n",
       "      <td>U Launcher Lite – FREE Live Cool Themes, Hide ...</td>\n",
       "      <td>ART_AND_DESIGN</td>\n",
       "      <td>4.7</td>\n",
       "      <td>87510</td>\n",
       "      <td>8700.0</td>\n",
       "      <td>5000000</td>\n",
       "      <td>Free</td>\n",
       "      <td>0.0</td>\n",
       "      <td>Everyone</td>\n",
       "      <td>Art &amp; Design</td>\n",
       "      <td>August 1, 2018</td>\n",
       "      <td>1.2.4</td>\n",
       "      <td>4.0.3 and up</td>\n",
       "    </tr>\n",
       "    <tr>\n",
       "      <th>3</th>\n",
       "      <td>Pixel Draw - Number Art Coloring Book</td>\n",
       "      <td>ART_AND_DESIGN</td>\n",
       "      <td>4.3</td>\n",
       "      <td>967</td>\n",
       "      <td>2800.0</td>\n",
       "      <td>100000</td>\n",
       "      <td>Free</td>\n",
       "      <td>0.0</td>\n",
       "      <td>Everyone</td>\n",
       "      <td>Art &amp; Design;Creativity</td>\n",
       "      <td>June 20, 2018</td>\n",
       "      <td>1.1</td>\n",
       "      <td>4.4 and up</td>\n",
       "    </tr>\n",
       "    <tr>\n",
       "      <th>4</th>\n",
       "      <td>Paper flowers instructions</td>\n",
       "      <td>ART_AND_DESIGN</td>\n",
       "      <td>4.4</td>\n",
       "      <td>167</td>\n",
       "      <td>5600.0</td>\n",
       "      <td>50000</td>\n",
       "      <td>Free</td>\n",
       "      <td>0.0</td>\n",
       "      <td>Everyone</td>\n",
       "      <td>Art &amp; Design</td>\n",
       "      <td>March 26, 2017</td>\n",
       "      <td>1.0</td>\n",
       "      <td>2.3 and up</td>\n",
       "    </tr>\n",
       "  </tbody>\n",
       "</table>\n",
       "</div>"
      ],
      "text/plain": [
       "                                                 App        Category  Rating  \\\n",
       "0     Photo Editor & Candy Camera & Grid & ScrapBook  ART_AND_DESIGN     4.1   \n",
       "1                                Coloring book moana  ART_AND_DESIGN     3.9   \n",
       "2  U Launcher Lite – FREE Live Cool Themes, Hide ...  ART_AND_DESIGN     4.7   \n",
       "3              Pixel Draw - Number Art Coloring Book  ART_AND_DESIGN     4.3   \n",
       "4                         Paper flowers instructions  ART_AND_DESIGN     4.4   \n",
       "\n",
       "   Reviews     Size  Installs  Type  Price Content Rating  \\\n",
       "0      159  19000.0     10000  Free    0.0       Everyone   \n",
       "1      967  14000.0    500000  Free    0.0       Everyone   \n",
       "2    87510   8700.0   5000000  Free    0.0       Everyone   \n",
       "3      967   2800.0    100000  Free    0.0       Everyone   \n",
       "4      167   5600.0     50000  Free    0.0       Everyone   \n",
       "\n",
       "                      Genres      Last Updated Current Ver   Android Ver  \n",
       "0               Art & Design   January 7, 2018       1.0.0  4.0.3 and up  \n",
       "1  Art & Design;Pretend Play  January 15, 2018       2.0.0  4.0.3 and up  \n",
       "2               Art & Design    August 1, 2018       1.2.4  4.0.3 and up  \n",
       "3    Art & Design;Creativity     June 20, 2018         1.1    4.4 and up  \n",
       "4               Art & Design    March 26, 2017         1.0    2.3 and up  "
      ]
     },
     "execution_count": 54,
     "metadata": {},
     "output_type": "execute_result"
    }
   ],
   "source": [
    "inp1=df\n",
    "inp1.reset_index(drop=True,inplace=True)\n",
    "inp1.head()"
   ]
  },
  {
   "cell_type": "markdown",
   "id": "8dabe03b",
   "metadata": {},
   "source": [
    "# Drop columns App, Last Updated, Current Ver, and Android Ver. These variables are not useful for our task."
   ]
  },
  {
   "cell_type": "code",
   "execution_count": 55,
   "id": "de53462c",
   "metadata": {},
   "outputs": [],
   "source": [
    "inp1=df.copy()\n",
    "inp1.Reviews=inp1.Reviews.apply(np.log1p)\n",
    "inp1.Installs=inp1.Installs.apply(np.log1p)\n",
    "inp1.drop(columns=['App','Last Updated','Current Ver','Android Ver'],inplace=True)"
   ]
  },
  {
   "cell_type": "code",
   "execution_count": 56,
   "id": "0f769e60",
   "metadata": {},
   "outputs": [
    {
     "data": {
      "text/html": [
       "<div>\n",
       "<style scoped>\n",
       "    .dataframe tbody tr th:only-of-type {\n",
       "        vertical-align: middle;\n",
       "    }\n",
       "\n",
       "    .dataframe tbody tr th {\n",
       "        vertical-align: top;\n",
       "    }\n",
       "\n",
       "    .dataframe thead th {\n",
       "        text-align: right;\n",
       "    }\n",
       "</style>\n",
       "<table border=\"1\" class=\"dataframe\">\n",
       "  <thead>\n",
       "    <tr style=\"text-align: right;\">\n",
       "      <th></th>\n",
       "      <th>Category</th>\n",
       "      <th>Rating</th>\n",
       "      <th>Reviews</th>\n",
       "      <th>Size</th>\n",
       "      <th>Installs</th>\n",
       "      <th>Type</th>\n",
       "      <th>Price</th>\n",
       "      <th>Content Rating</th>\n",
       "      <th>Genres</th>\n",
       "    </tr>\n",
       "  </thead>\n",
       "  <tbody>\n",
       "    <tr>\n",
       "      <th>0</th>\n",
       "      <td>ART_AND_DESIGN</td>\n",
       "      <td>4.1</td>\n",
       "      <td>5.075174</td>\n",
       "      <td>19000.0</td>\n",
       "      <td>9.210440</td>\n",
       "      <td>Free</td>\n",
       "      <td>0.0</td>\n",
       "      <td>Everyone</td>\n",
       "      <td>Art &amp; Design</td>\n",
       "    </tr>\n",
       "    <tr>\n",
       "      <th>1</th>\n",
       "      <td>ART_AND_DESIGN</td>\n",
       "      <td>3.9</td>\n",
       "      <td>6.875232</td>\n",
       "      <td>14000.0</td>\n",
       "      <td>13.122365</td>\n",
       "      <td>Free</td>\n",
       "      <td>0.0</td>\n",
       "      <td>Everyone</td>\n",
       "      <td>Art &amp; Design;Pretend Play</td>\n",
       "    </tr>\n",
       "    <tr>\n",
       "      <th>2</th>\n",
       "      <td>ART_AND_DESIGN</td>\n",
       "      <td>4.7</td>\n",
       "      <td>11.379520</td>\n",
       "      <td>8700.0</td>\n",
       "      <td>15.424949</td>\n",
       "      <td>Free</td>\n",
       "      <td>0.0</td>\n",
       "      <td>Everyone</td>\n",
       "      <td>Art &amp; Design</td>\n",
       "    </tr>\n",
       "    <tr>\n",
       "      <th>3</th>\n",
       "      <td>ART_AND_DESIGN</td>\n",
       "      <td>4.3</td>\n",
       "      <td>6.875232</td>\n",
       "      <td>2800.0</td>\n",
       "      <td>11.512935</td>\n",
       "      <td>Free</td>\n",
       "      <td>0.0</td>\n",
       "      <td>Everyone</td>\n",
       "      <td>Art &amp; Design;Creativity</td>\n",
       "    </tr>\n",
       "    <tr>\n",
       "      <th>4</th>\n",
       "      <td>ART_AND_DESIGN</td>\n",
       "      <td>4.4</td>\n",
       "      <td>5.123964</td>\n",
       "      <td>5600.0</td>\n",
       "      <td>10.819798</td>\n",
       "      <td>Free</td>\n",
       "      <td>0.0</td>\n",
       "      <td>Everyone</td>\n",
       "      <td>Art &amp; Design</td>\n",
       "    </tr>\n",
       "  </tbody>\n",
       "</table>\n",
       "</div>"
      ],
      "text/plain": [
       "         Category  Rating    Reviews     Size   Installs  Type  Price  \\\n",
       "0  ART_AND_DESIGN     4.1   5.075174  19000.0   9.210440  Free    0.0   \n",
       "1  ART_AND_DESIGN     3.9   6.875232  14000.0  13.122365  Free    0.0   \n",
       "2  ART_AND_DESIGN     4.7  11.379520   8700.0  15.424949  Free    0.0   \n",
       "3  ART_AND_DESIGN     4.3   6.875232   2800.0  11.512935  Free    0.0   \n",
       "4  ART_AND_DESIGN     4.4   5.123964   5600.0  10.819798  Free    0.0   \n",
       "\n",
       "  Content Rating                     Genres  \n",
       "0       Everyone               Art & Design  \n",
       "1       Everyone  Art & Design;Pretend Play  \n",
       "2       Everyone               Art & Design  \n",
       "3       Everyone    Art & Design;Creativity  \n",
       "4       Everyone               Art & Design  "
      ]
     },
     "execution_count": 56,
     "metadata": {},
     "output_type": "execute_result"
    }
   ],
   "source": [
    "inp1.head()"
   ]
  },
  {
   "cell_type": "markdown",
   "id": "6307d633",
   "metadata": {},
   "source": [
    "# Get dummy columns for Category, Genres, and Content Rating. This needs to be done as the models do not understand categorical data, and all data should be numeric. Dummy encoding is one way to convert character fields to numeric. Name of dataframe should be inp2."
   ]
  },
  {
   "cell_type": "code",
   "execution_count": 57,
   "id": "589290ce",
   "metadata": {},
   "outputs": [],
   "source": [
    "inp2 = pd.get_dummies(inp1)"
   ]
  },
  {
   "cell_type": "code",
   "execution_count": 58,
   "id": "7440c176",
   "metadata": {},
   "outputs": [
    {
     "data": {
      "text/html": [
       "<div>\n",
       "<style scoped>\n",
       "    .dataframe tbody tr th:only-of-type {\n",
       "        vertical-align: middle;\n",
       "    }\n",
       "\n",
       "    .dataframe tbody tr th {\n",
       "        vertical-align: top;\n",
       "    }\n",
       "\n",
       "    .dataframe thead th {\n",
       "        text-align: right;\n",
       "    }\n",
       "</style>\n",
       "<table border=\"1\" class=\"dataframe\">\n",
       "  <thead>\n",
       "    <tr style=\"text-align: right;\">\n",
       "      <th></th>\n",
       "      <th>Rating</th>\n",
       "      <th>Reviews</th>\n",
       "      <th>Size</th>\n",
       "      <th>Installs</th>\n",
       "      <th>Price</th>\n",
       "      <th>Category_ART_AND_DESIGN</th>\n",
       "      <th>Category_AUTO_AND_VEHICLES</th>\n",
       "      <th>Category_BEAUTY</th>\n",
       "      <th>Category_BOOKS_AND_REFERENCE</th>\n",
       "      <th>Category_BUSINESS</th>\n",
       "      <th>...</th>\n",
       "      <th>Genres_Strategy;Education</th>\n",
       "      <th>Genres_Tools</th>\n",
       "      <th>Genres_Travel &amp; Local</th>\n",
       "      <th>Genres_Travel &amp; Local;Action &amp; Adventure</th>\n",
       "      <th>Genres_Trivia</th>\n",
       "      <th>Genres_Video Players &amp; Editors</th>\n",
       "      <th>Genres_Video Players &amp; Editors;Creativity</th>\n",
       "      <th>Genres_Video Players &amp; Editors;Music &amp; Video</th>\n",
       "      <th>Genres_Weather</th>\n",
       "      <th>Genres_Word</th>\n",
       "    </tr>\n",
       "  </thead>\n",
       "  <tbody>\n",
       "    <tr>\n",
       "      <th>0</th>\n",
       "      <td>4.1</td>\n",
       "      <td>5.075174</td>\n",
       "      <td>19000.0</td>\n",
       "      <td>9.210440</td>\n",
       "      <td>0.0</td>\n",
       "      <td>1</td>\n",
       "      <td>0</td>\n",
       "      <td>0</td>\n",
       "      <td>0</td>\n",
       "      <td>0</td>\n",
       "      <td>...</td>\n",
       "      <td>0</td>\n",
       "      <td>0</td>\n",
       "      <td>0</td>\n",
       "      <td>0</td>\n",
       "      <td>0</td>\n",
       "      <td>0</td>\n",
       "      <td>0</td>\n",
       "      <td>0</td>\n",
       "      <td>0</td>\n",
       "      <td>0</td>\n",
       "    </tr>\n",
       "    <tr>\n",
       "      <th>1</th>\n",
       "      <td>3.9</td>\n",
       "      <td>6.875232</td>\n",
       "      <td>14000.0</td>\n",
       "      <td>13.122365</td>\n",
       "      <td>0.0</td>\n",
       "      <td>1</td>\n",
       "      <td>0</td>\n",
       "      <td>0</td>\n",
       "      <td>0</td>\n",
       "      <td>0</td>\n",
       "      <td>...</td>\n",
       "      <td>0</td>\n",
       "      <td>0</td>\n",
       "      <td>0</td>\n",
       "      <td>0</td>\n",
       "      <td>0</td>\n",
       "      <td>0</td>\n",
       "      <td>0</td>\n",
       "      <td>0</td>\n",
       "      <td>0</td>\n",
       "      <td>0</td>\n",
       "    </tr>\n",
       "  </tbody>\n",
       "</table>\n",
       "<p>2 rows × 158 columns</p>\n",
       "</div>"
      ],
      "text/plain": [
       "   Rating   Reviews     Size   Installs  Price  Category_ART_AND_DESIGN  \\\n",
       "0     4.1  5.075174  19000.0   9.210440    0.0                        1   \n",
       "1     3.9  6.875232  14000.0  13.122365    0.0                        1   \n",
       "\n",
       "   Category_AUTO_AND_VEHICLES  Category_BEAUTY  Category_BOOKS_AND_REFERENCE  \\\n",
       "0                           0                0                             0   \n",
       "1                           0                0                             0   \n",
       "\n",
       "   Category_BUSINESS  ...  Genres_Strategy;Education  Genres_Tools  \\\n",
       "0                  0  ...                          0             0   \n",
       "1                  0  ...                          0             0   \n",
       "\n",
       "   Genres_Travel & Local  Genres_Travel & Local;Action & Adventure  \\\n",
       "0                      0                                         0   \n",
       "1                      0                                         0   \n",
       "\n",
       "   Genres_Trivia  Genres_Video Players & Editors  \\\n",
       "0              0                               0   \n",
       "1              0                               0   \n",
       "\n",
       "   Genres_Video Players & Editors;Creativity  \\\n",
       "0                                          0   \n",
       "1                                          0   \n",
       "\n",
       "   Genres_Video Players & Editors;Music & Video  Genres_Weather  Genres_Word  \n",
       "0                                             0               0            0  \n",
       "1                                             0               0            0  \n",
       "\n",
       "[2 rows x 158 columns]"
      ]
     },
     "execution_count": 58,
     "metadata": {},
     "output_type": "execute_result"
    }
   ],
   "source": [
    "inp2.head(2)"
   ]
  },
  {
   "cell_type": "code",
   "execution_count": 59,
   "id": "f538d260",
   "metadata": {},
   "outputs": [
    {
     "data": {
      "text/plain": [
       "{'Category_ART_AND_DESIGN',\n",
       " 'Category_AUTO_AND_VEHICLES',\n",
       " 'Category_BEAUTY',\n",
       " 'Category_BOOKS_AND_REFERENCE',\n",
       " 'Category_BUSINESS',\n",
       " 'Category_COMICS',\n",
       " 'Category_COMMUNICATION',\n",
       " 'Category_DATING',\n",
       " 'Category_EDUCATION',\n",
       " 'Category_ENTERTAINMENT',\n",
       " 'Category_EVENTS',\n",
       " 'Category_FAMILY',\n",
       " 'Category_FINANCE',\n",
       " 'Category_FOOD_AND_DRINK',\n",
       " 'Category_GAME',\n",
       " 'Category_HEALTH_AND_FITNESS',\n",
       " 'Category_HOUSE_AND_HOME',\n",
       " 'Category_LIBRARIES_AND_DEMO',\n",
       " 'Category_LIFESTYLE',\n",
       " 'Category_MAPS_AND_NAVIGATION',\n",
       " 'Category_MEDICAL',\n",
       " 'Category_NEWS_AND_MAGAZINES',\n",
       " 'Category_PARENTING',\n",
       " 'Category_PERSONALIZATION',\n",
       " 'Category_PHOTOGRAPHY',\n",
       " 'Category_PRODUCTIVITY',\n",
       " 'Category_SHOPPING',\n",
       " 'Category_SOCIAL',\n",
       " 'Category_SPORTS',\n",
       " 'Category_TOOLS',\n",
       " 'Category_TRAVEL_AND_LOCAL',\n",
       " 'Category_VIDEO_PLAYERS',\n",
       " 'Category_WEATHER',\n",
       " 'Content Rating_Adults only 18+',\n",
       " 'Content Rating_Everyone',\n",
       " 'Content Rating_Everyone 10+',\n",
       " 'Content Rating_Mature 17+',\n",
       " 'Content Rating_Teen',\n",
       " 'Content Rating_Unrated',\n",
       " 'Genres_Action',\n",
       " 'Genres_Action;Action & Adventure',\n",
       " 'Genres_Adventure',\n",
       " 'Genres_Adventure;Action & Adventure',\n",
       " 'Genres_Adventure;Brain Games',\n",
       " 'Genres_Adventure;Education',\n",
       " 'Genres_Arcade',\n",
       " 'Genres_Arcade;Action & Adventure',\n",
       " 'Genres_Arcade;Pretend Play',\n",
       " 'Genres_Art & Design',\n",
       " 'Genres_Art & Design;Creativity',\n",
       " 'Genres_Art & Design;Pretend Play',\n",
       " 'Genres_Auto & Vehicles',\n",
       " 'Genres_Beauty',\n",
       " 'Genres_Board',\n",
       " 'Genres_Board;Action & Adventure',\n",
       " 'Genres_Board;Brain Games',\n",
       " 'Genres_Board;Pretend Play',\n",
       " 'Genres_Books & Reference',\n",
       " 'Genres_Books & Reference;Education',\n",
       " 'Genres_Business',\n",
       " 'Genres_Card',\n",
       " 'Genres_Card;Action & Adventure',\n",
       " 'Genres_Card;Brain Games',\n",
       " 'Genres_Casino',\n",
       " 'Genres_Casual',\n",
       " 'Genres_Casual;Action & Adventure',\n",
       " 'Genres_Casual;Brain Games',\n",
       " 'Genres_Casual;Creativity',\n",
       " 'Genres_Casual;Education',\n",
       " 'Genres_Casual;Music & Video',\n",
       " 'Genres_Casual;Pretend Play',\n",
       " 'Genres_Comics',\n",
       " 'Genres_Comics;Creativity',\n",
       " 'Genres_Communication',\n",
       " 'Genres_Dating',\n",
       " 'Genres_Education',\n",
       " 'Genres_Education;Action & Adventure',\n",
       " 'Genres_Education;Brain Games',\n",
       " 'Genres_Education;Creativity',\n",
       " 'Genres_Education;Education',\n",
       " 'Genres_Education;Music & Video',\n",
       " 'Genres_Education;Pretend Play',\n",
       " 'Genres_Educational',\n",
       " 'Genres_Educational;Action & Adventure',\n",
       " 'Genres_Educational;Brain Games',\n",
       " 'Genres_Educational;Creativity',\n",
       " 'Genres_Educational;Education',\n",
       " 'Genres_Educational;Pretend Play',\n",
       " 'Genres_Entertainment',\n",
       " 'Genres_Entertainment;Action & Adventure',\n",
       " 'Genres_Entertainment;Brain Games',\n",
       " 'Genres_Entertainment;Creativity',\n",
       " 'Genres_Entertainment;Education',\n",
       " 'Genres_Entertainment;Music & Video',\n",
       " 'Genres_Entertainment;Pretend Play',\n",
       " 'Genres_Events',\n",
       " 'Genres_Finance',\n",
       " 'Genres_Food & Drink',\n",
       " 'Genres_Health & Fitness',\n",
       " 'Genres_Health & Fitness;Action & Adventure',\n",
       " 'Genres_Health & Fitness;Education',\n",
       " 'Genres_House & Home',\n",
       " 'Genres_Libraries & Demo',\n",
       " 'Genres_Lifestyle',\n",
       " 'Genres_Lifestyle;Pretend Play',\n",
       " 'Genres_Maps & Navigation',\n",
       " 'Genres_Medical',\n",
       " 'Genres_Music',\n",
       " 'Genres_Music & Audio;Music & Video',\n",
       " 'Genres_Music;Music & Video',\n",
       " 'Genres_News & Magazines',\n",
       " 'Genres_Parenting',\n",
       " 'Genres_Parenting;Brain Games',\n",
       " 'Genres_Parenting;Education',\n",
       " 'Genres_Parenting;Music & Video',\n",
       " 'Genres_Personalization',\n",
       " 'Genres_Photography',\n",
       " 'Genres_Productivity',\n",
       " 'Genres_Puzzle',\n",
       " 'Genres_Puzzle;Action & Adventure',\n",
       " 'Genres_Puzzle;Brain Games',\n",
       " 'Genres_Puzzle;Creativity',\n",
       " 'Genres_Puzzle;Education',\n",
       " 'Genres_Racing',\n",
       " 'Genres_Racing;Action & Adventure',\n",
       " 'Genres_Racing;Pretend Play',\n",
       " 'Genres_Role Playing',\n",
       " 'Genres_Role Playing;Action & Adventure',\n",
       " 'Genres_Role Playing;Brain Games',\n",
       " 'Genres_Role Playing;Pretend Play',\n",
       " 'Genres_Shopping',\n",
       " 'Genres_Simulation',\n",
       " 'Genres_Simulation;Action & Adventure',\n",
       " 'Genres_Simulation;Education',\n",
       " 'Genres_Simulation;Pretend Play',\n",
       " 'Genres_Social',\n",
       " 'Genres_Sports',\n",
       " 'Genres_Sports;Action & Adventure',\n",
       " 'Genres_Strategy',\n",
       " 'Genres_Strategy;Action & Adventure',\n",
       " 'Genres_Strategy;Creativity',\n",
       " 'Genres_Strategy;Education',\n",
       " 'Genres_Tools',\n",
       " 'Genres_Travel & Local',\n",
       " 'Genres_Travel & Local;Action & Adventure',\n",
       " 'Genres_Trivia',\n",
       " 'Genres_Video Players & Editors',\n",
       " 'Genres_Video Players & Editors;Creativity',\n",
       " 'Genres_Video Players & Editors;Music & Video',\n",
       " 'Genres_Weather',\n",
       " 'Genres_Word',\n",
       " 'Installs',\n",
       " 'Price',\n",
       " 'Rating',\n",
       " 'Reviews',\n",
       " 'Size',\n",
       " 'Type_Free',\n",
       " 'Type_Paid'}"
      ]
     },
     "execution_count": 59,
     "metadata": {},
     "output_type": "execute_result"
    }
   ],
   "source": [
    "set(inp2.columns)"
   ]
  },
  {
   "cell_type": "markdown",
   "id": "624c6774",
   "metadata": {},
   "source": [
    "# 9. Train test split  and apply 70-30 split. Name the new dataframes df_train and df_test."
   ]
  },
  {
   "cell_type": "code",
   "execution_count": 60,
   "id": "1727f8a4",
   "metadata": {},
   "outputs": [],
   "source": [
    "from sklearn.model_selection import train_test_split\n",
    "df_train, df_test=train_test_split(inp2,test_size=0.3,random_state=100)"
   ]
  },
  {
   "cell_type": "markdown",
   "id": "27c7b052",
   "metadata": {},
   "source": [
    "# 10. Separate the dataframes into X_train, y_train, X_test, and y_test."
   ]
  },
  {
   "cell_type": "code",
   "execution_count": 61,
   "id": "b8343444",
   "metadata": {},
   "outputs": [],
   "source": [
    "y_train=df_train.pop('Rating')\n",
    "x_train=df_train\n",
    "\n",
    "y_test=df_test.pop('Rating')\n",
    "x_test=df_test"
   ]
  },
  {
   "cell_type": "markdown",
   "id": "9b9c6be8",
   "metadata": {},
   "source": [
    "# 11 . Model building\n",
    "\n",
    "Use linear regression as the technique\n",
    "\n",
    "Report the R2 on the train set"
   ]
  },
  {
   "cell_type": "code",
   "execution_count": 62,
   "id": "6264cc11",
   "metadata": {},
   "outputs": [
    {
     "data": {
      "text/plain": [
       "0.15582597515293406"
      ]
     },
     "execution_count": 62,
     "metadata": {},
     "output_type": "execute_result"
    }
   ],
   "source": [
    "from sklearn.linear_model import LinearRegression\n",
    "lm=LinearRegression()\n",
    "lm.fit(x_train,y_train)\n",
    "\n",
    "from sklearn.metrics import r2_score\n",
    "y_train_predict=lm.predict(x_train)\n",
    "r2_score(y_train,y_train_predict)"
   ]
  },
  {
   "cell_type": "markdown",
   "id": "2483708f",
   "metadata": {},
   "source": [
    "# 12. Make predictions on test set and report R2."
   ]
  },
  {
   "cell_type": "code",
   "execution_count": 63,
   "id": "825c1013",
   "metadata": {},
   "outputs": [
    {
     "data": {
      "text/plain": [
       "0.13238538451714088"
      ]
     },
     "execution_count": 63,
     "metadata": {},
     "output_type": "execute_result"
    }
   ],
   "source": [
    "x_test_prect=lm.predict(x_test)\n",
    "r2_score(y_test,x_test_prect)"
   ]
  },
  {
   "cell_type": "code",
   "execution_count": null,
   "id": "1a2658f0",
   "metadata": {},
   "outputs": [],
   "source": []
  }
 ],
 "metadata": {
  "kernelspec": {
   "display_name": "Python 3",
   "language": "python",
   "name": "python3"
  },
  "language_info": {
   "codemirror_mode": {
    "name": "ipython",
    "version": 3
   },
   "file_extension": ".py",
   "mimetype": "text/x-python",
   "name": "python",
   "nbconvert_exporter": "python",
   "pygments_lexer": "ipython3",
   "version": "3.8.8"
  }
 },
 "nbformat": 4,
 "nbformat_minor": 5
}
